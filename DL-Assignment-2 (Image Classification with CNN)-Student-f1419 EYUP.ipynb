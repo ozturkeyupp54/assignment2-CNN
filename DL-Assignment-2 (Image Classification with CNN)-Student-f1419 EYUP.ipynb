{
 "cells": [
  {
   "cell_type": "markdown",
   "metadata": {},
   "source": [
    "___\n",
    "\n",
    "<p style=\"text-align: center;\"><img src=\"https://docs.google.com/uc?id=1lY0Uj5R04yMY3-ZppPWxqCr5pvBLYPnV\" class=\"img-fluid\" alt=\"CLRSWY\"></p>\n",
    "\n",
    "___"
   ]
  },
  {
   "cell_type": "markdown",
   "metadata": {},
   "source": [
    "<h1 style=\"text-align: center;\">Deep Learning<br><br>Assignment-2 (CNN)<br><br>Image Classification with CNN<br><h1>"
   ]
  },
  {
   "cell_type": "markdown",
   "metadata": {},
   "source": [
    "# Task and Dataset Info\n",
    "\n",
    "Welcome to second assignment of Deep learning lesson. Follow the instructions and complete the assignment.\n",
    "\n",
    "**Build an image classifier with Convolutional Neural Networks for the Fashion MNIST dataset. This data set includes 10 labels of different clothing types with 28 by 28 *grayscale* images. There is a training set of 60,000 images and 10,000 test images.**\n",
    "\n",
    "    Label\tDescription\n",
    "    0\t    T-shirt/top\n",
    "    1\t    Trouser\n",
    "    2\t    Pullover\n",
    "    3\t    Dress\n",
    "    4\t    Coat\n",
    "    5\t    Sandal\n",
    "    6\t    Shirt\n",
    "    7\t    Sneaker\n",
    "    8\t    Bag\n",
    "    9\t    Ankle boot"
   ]
  },
  {
   "cell_type": "markdown",
   "metadata": {},
   "source": [
    "# Import Libraries"
   ]
  },
  {
   "cell_type": "code",
   "execution_count": 2,
   "metadata": {},
   "outputs": [
    {
     "name": "stdout",
     "output_type": "stream",
     "text": [
      "3.9.12 (main, Apr  4 2022, 05:22:27) [MSC v.1916 64 bit (AMD64)]\n"
     ]
    }
   ],
   "source": [
    "import sys \n",
    "print(sys.version)"
   ]
  },
  {
   "cell_type": "code",
   "execution_count": 3,
   "metadata": {},
   "outputs": [],
   "source": [
    "import os # os: Operating System\n",
    "import numpy as np\n",
    "import pandas as pd\n",
    "import matplotlib.pyplot as plt\n",
    "import seaborn as sns\n",
    "from matplotlib.image import imread\n",
    "#import warnings\n",
    "#warnings.filterwarnings(\"ignore\")\n",
    "#warnings.warn(\"this will not show\")\n",
    "plt.rcParams[\"figure.figsize\"] = (10,6)\n",
    "sns.set_style(\"whitegrid\")\n",
    "pd.set_option('display.float_format', lambda x: '%.3f' % x)\n",
    "# Set it None to display all rows in the dataframe\n",
    "# pd.set_option('display.max_rows', None)\n",
    "# Set it to None to display all columns in the dataframe\n",
    "pd.set_option('display.max_columns', None)"
   ]
  },
  {
   "cell_type": "code",
   "execution_count": 4,
   "metadata": {},
   "outputs": [],
   "source": [
    "# !pip install tensorflow"
   ]
  },
  {
   "cell_type": "markdown",
   "metadata": {},
   "source": [
    "# Recognizing and Understanding Data\n",
    "\n",
    "**TASK 1: Run the code below to download the dataset using Keras.**"
   ]
  },
  {
   "cell_type": "code",
   "execution_count": 5,
   "metadata": {},
   "outputs": [],
   "source": [
    "from tensorflow.keras.datasets import fashion_mnist\n",
    "\n",
    "(x_train, y_train), (x_test, y_test) = fashion_mnist.load_data()"
   ]
  },
  {
   "cell_type": "markdown",
   "metadata": {},
   "source": [
    "**TASK 2: Use matplotlib to view an image from the data set. It can be any image from the data set.**"
   ]
  },
  {
   "cell_type": "code",
   "execution_count": null,
   "metadata": {},
   "outputs": [],
   "source": []
  },
  {
   "cell_type": "code",
   "execution_count": 6,
   "metadata": {},
   "outputs": [],
   "source": [
    "classes=[\"T-shirt/top\", \"Trouser\",\"Pullover\",\"Dress\",\"Coat\",\"Sandal\",\"Shirt\",\"Sneaker\",\"Bag\",\"Ankle boot\"]"
   ]
  },
  {
   "cell_type": "code",
   "execution_count": 7,
   "metadata": {},
   "outputs": [
    {
     "data": {
      "text/plain": [
       "array([[  0,   0,   0,   0,   0,   0,   0,   0,   0,   0,   0,   0,   0,\n",
       "          0,   0,   0,   0,   0,   0,   0,   0,   0,   0,   0,   0,   0,\n",
       "          0,   0],\n",
       "       [  0,   0,   0,   0,   0,   0,   0,   0,   0,   0,   0,   0,   0,\n",
       "          0,   0,   0,   0,   0,   0,   0,   0,   0,   0,   0,   0,   0,\n",
       "          0,   0],\n",
       "       [  0,   0,   0,   0,   0,   0,   0,   0,   0,   0,   0,   0,   0,\n",
       "          0,   0,   0,   0,   0,   0,   0,   0,   0,   0,   0,   0,   0,\n",
       "          0,   0],\n",
       "       [  0,   0,   0,   0,   0,   0,   0,   0,   0,   0,   0,   0,   1,\n",
       "          0,   0,  13,  73,   0,   0,   1,   4,   0,   0,   0,   0,   1,\n",
       "          1,   0],\n",
       "       [  0,   0,   0,   0,   0,   0,   0,   0,   0,   0,   0,   0,   3,\n",
       "          0,  36, 136, 127,  62,  54,   0,   0,   0,   1,   3,   4,   0,\n",
       "          0,   3],\n",
       "       [  0,   0,   0,   0,   0,   0,   0,   0,   0,   0,   0,   0,   6,\n",
       "          0, 102, 204, 176, 134, 144, 123,  23,   0,   0,   0,   0,  12,\n",
       "         10,   0],\n",
       "       [  0,   0,   0,   0,   0,   0,   0,   0,   0,   0,   0,   0,   0,\n",
       "          0, 155, 236, 207, 178, 107, 156, 161, 109,  64,  23,  77, 130,\n",
       "         72,  15],\n",
       "       [  0,   0,   0,   0,   0,   0,   0,   0,   0,   0,   0,   1,   0,\n",
       "         69, 207, 223, 218, 216, 216, 163, 127, 121, 122, 146, 141,  88,\n",
       "        172,  66],\n",
       "       [  0,   0,   0,   0,   0,   0,   0,   0,   0,   1,   1,   1,   0,\n",
       "        200, 232, 232, 233, 229, 223, 223, 215, 213, 164, 127, 123, 196,\n",
       "        229,   0],\n",
       "       [  0,   0,   0,   0,   0,   0,   0,   0,   0,   0,   0,   0,   0,\n",
       "        183, 225, 216, 223, 228, 235, 227, 224, 222, 224, 221, 223, 245,\n",
       "        173,   0],\n",
       "       [  0,   0,   0,   0,   0,   0,   0,   0,   0,   0,   0,   0,   0,\n",
       "        193, 228, 218, 213, 198, 180, 212, 210, 211, 213, 223, 220, 243,\n",
       "        202,   0],\n",
       "       [  0,   0,   0,   0,   0,   0,   0,   0,   0,   1,   3,   0,  12,\n",
       "        219, 220, 212, 218, 192, 169, 227, 208, 218, 224, 212, 226, 197,\n",
       "        209,  52],\n",
       "       [  0,   0,   0,   0,   0,   0,   0,   0,   0,   0,   6,   0,  99,\n",
       "        244, 222, 220, 218, 203, 198, 221, 215, 213, 222, 220, 245, 119,\n",
       "        167,  56],\n",
       "       [  0,   0,   0,   0,   0,   0,   0,   0,   0,   4,   0,   0,  55,\n",
       "        236, 228, 230, 228, 240, 232, 213, 218, 223, 234, 217, 217, 209,\n",
       "         92,   0],\n",
       "       [  0,   0,   1,   4,   6,   7,   2,   0,   0,   0,   0,   0, 237,\n",
       "        226, 217, 223, 222, 219, 222, 221, 216, 223, 229, 215, 218, 255,\n",
       "         77,   0],\n",
       "       [  0,   3,   0,   0,   0,   0,   0,   0,   0,  62, 145, 204, 228,\n",
       "        207, 213, 221, 218, 208, 211, 218, 224, 223, 219, 215, 224, 244,\n",
       "        159,   0],\n",
       "       [  0,   0,   0,   0,  18,  44,  82, 107, 189, 228, 220, 222, 217,\n",
       "        226, 200, 205, 211, 230, 224, 234, 176, 188, 250, 248, 233, 238,\n",
       "        215,   0],\n",
       "       [  0,  57, 187, 208, 224, 221, 224, 208, 204, 214, 208, 209, 200,\n",
       "        159, 245, 193, 206, 223, 255, 255, 221, 234, 221, 211, 220, 232,\n",
       "        246,   0],\n",
       "       [  3, 202, 228, 224, 221, 211, 211, 214, 205, 205, 205, 220, 240,\n",
       "         80, 150, 255, 229, 221, 188, 154, 191, 210, 204, 209, 222, 228,\n",
       "        225,   0],\n",
       "       [ 98, 233, 198, 210, 222, 229, 229, 234, 249, 220, 194, 215, 217,\n",
       "        241,  65,  73, 106, 117, 168, 219, 221, 215, 217, 223, 223, 224,\n",
       "        229,  29],\n",
       "       [ 75, 204, 212, 204, 193, 205, 211, 225, 216, 185, 197, 206, 198,\n",
       "        213, 240, 195, 227, 245, 239, 223, 218, 212, 209, 222, 220, 221,\n",
       "        230,  67],\n",
       "       [ 48, 203, 183, 194, 213, 197, 185, 190, 194, 192, 202, 214, 219,\n",
       "        221, 220, 236, 225, 216, 199, 206, 186, 181, 177, 172, 181, 205,\n",
       "        206, 115],\n",
       "       [  0, 122, 219, 193, 179, 171, 183, 196, 204, 210, 213, 207, 211,\n",
       "        210, 200, 196, 194, 191, 195, 191, 198, 192, 176, 156, 167, 177,\n",
       "        210,  92],\n",
       "       [  0,   0,  74, 189, 212, 191, 175, 172, 175, 181, 185, 188, 189,\n",
       "        188, 193, 198, 204, 209, 210, 210, 211, 188, 188, 194, 192, 216,\n",
       "        170,   0],\n",
       "       [  2,   0,   0,   0,  66, 200, 222, 237, 239, 242, 246, 243, 244,\n",
       "        221, 220, 193, 191, 179, 182, 182, 181, 176, 166, 168,  99,  58,\n",
       "          0,   0],\n",
       "       [  0,   0,   0,   0,   0,   0,   0,  40,  61,  44,  72,  41,  35,\n",
       "          0,   0,   0,   0,   0,   0,   0,   0,   0,   0,   0,   0,   0,\n",
       "          0,   0],\n",
       "       [  0,   0,   0,   0,   0,   0,   0,   0,   0,   0,   0,   0,   0,\n",
       "          0,   0,   0,   0,   0,   0,   0,   0,   0,   0,   0,   0,   0,\n",
       "          0,   0],\n",
       "       [  0,   0,   0,   0,   0,   0,   0,   0,   0,   0,   0,   0,   0,\n",
       "          0,   0,   0,   0,   0,   0,   0,   0,   0,   0,   0,   0,   0,\n",
       "          0,   0]], dtype=uint8)"
      ]
     },
     "execution_count": 7,
     "metadata": {},
     "output_type": "execute_result"
    }
   ],
   "source": [
    "x_train[0]"
   ]
  },
  {
   "cell_type": "code",
   "execution_count": 8,
   "metadata": {},
   "outputs": [
    {
     "data": {
      "text/plain": [
       "(28, 28)"
      ]
     },
     "execution_count": 8,
     "metadata": {},
     "output_type": "execute_result"
    }
   ],
   "source": [
    "x_train[0].shape"
   ]
  },
  {
   "cell_type": "code",
   "execution_count": 9,
   "metadata": {},
   "outputs": [
    {
     "data": {
      "text/plain": [
       "<matplotlib.image.AxesImage at 0x20efa5f17c0>"
      ]
     },
     "execution_count": 9,
     "metadata": {},
     "output_type": "execute_result"
    },
    {
     "data": {
      "image/png": "[encoded data removed]",
      "text/plain": [
       "<Figure size 720x432 with 1 Axes>"
      ]
     },
     "metadata": {},
     "output_type": "display_data"
    }
   ],
   "source": [
    "plt.imshow(x_train[54])"
   ]
  },
  {
   "cell_type": "code",
   "execution_count": 10,
   "metadata": {},
   "outputs": [
    {
     "data": {
      "text/plain": [
       "9"
      ]
     },
     "execution_count": 10,
     "metadata": {},
     "output_type": "execute_result"
    }
   ],
   "source": [
    "y_train[0]"
   ]
  },
  {
   "cell_type": "code",
   "execution_count": 11,
   "metadata": {},
   "outputs": [
    {
     "data": {
      "text/plain": [
       "'T-shirt/top'"
      ]
     },
     "execution_count": 11,
     "metadata": {},
     "output_type": "execute_result"
    }
   ],
   "source": [
    "classes[0]"
   ]
  },
  {
   "cell_type": "markdown",
   "metadata": {},
   "source": [
    "# Data Preprocessing\n",
    "\n",
    "**TASK 3: Normalize the X train and X test data by dividing by the max value of the image arrays.**"
   ]
  },
  {
   "cell_type": "code",
   "execution_count": 12,
   "metadata": {},
   "outputs": [
    {
     "data": {
      "text/plain": [
       "255"
      ]
     },
     "execution_count": 12,
     "metadata": {},
     "output_type": "execute_result"
    }
   ],
   "source": [
    "x_train.max()"
   ]
  },
  {
   "cell_type": "code",
   "execution_count": 13,
   "metadata": {},
   "outputs": [],
   "source": [
    "x_train = x_train/255"
   ]
  },
  {
   "cell_type": "code",
   "execution_count": 14,
   "metadata": {},
   "outputs": [],
   "source": [
    "x_test = x_test/255"
   ]
  },
  {
   "cell_type": "markdown",
   "metadata": {},
   "source": [
    "**Task 4: Reshape the X arrays to include a 4 dimension of the single channel. Similar to what we did for the numbers MNIST data set.**"
   ]
  },
  {
   "cell_type": "code",
   "execution_count": 15,
   "metadata": {},
   "outputs": [
    {
     "data": {
      "text/plain": [
       "(60000, 28, 28)"
      ]
     },
     "execution_count": 15,
     "metadata": {},
     "output_type": "execute_result"
    }
   ],
   "source": [
    "x_train.shape"
   ]
  },
  {
   "cell_type": "code",
   "execution_count": 16,
   "metadata": {},
   "outputs": [],
   "source": [
    "x_train = x_train.reshape(x_train.shape[0],28,28,1)"
   ]
  },
  {
   "cell_type": "code",
   "execution_count": 17,
   "metadata": {},
   "outputs": [],
   "source": [
    "x_test = x_test.reshape(10000,28,28,1)"
   ]
  },
  {
   "cell_type": "markdown",
   "metadata": {},
   "source": [
    "**TASK 5: Convert the y_train and y_test values to be one-hot encoded for categorical analysis by Keras.**"
   ]
  },
  {
   "cell_type": "code",
   "execution_count": 18,
   "metadata": {},
   "outputs": [],
   "source": [
    "from tensorflow.keras.utils import to_categorical "
   ]
  },
  {
   "cell_type": "code",
   "execution_count": 19,
   "metadata": {},
   "outputs": [
    {
     "data": {
      "text/plain": [
       "array([9, 0, 0, ..., 3, 0, 5], dtype=uint8)"
      ]
     },
     "execution_count": 19,
     "metadata": {},
     "output_type": "execute_result"
    }
   ],
   "source": [
    "y_train"
   ]
  },
  {
   "cell_type": "code",
   "execution_count": 20,
   "metadata": {},
   "outputs": [],
   "source": [
    "y_cat_train = to_categorical(y_train)"
   ]
  },
  {
   "cell_type": "code",
   "execution_count": 21,
   "metadata": {},
   "outputs": [],
   "source": [
    "y_cat_test = to_categorical(y_test)"
   ]
  },
  {
   "cell_type": "code",
   "execution_count": 22,
   "metadata": {},
   "outputs": [
    {
     "data": {
      "text/plain": [
       "array([[0., 0., 0., ..., 0., 0., 1.],\n",
       "       [1., 0., 0., ..., 0., 0., 0.],\n",
       "       [1., 0., 0., ..., 0., 0., 0.],\n",
       "       ...,\n",
       "       [0., 0., 0., ..., 0., 0., 0.],\n",
       "       [1., 0., 0., ..., 0., 0., 0.],\n",
       "       [0., 0., 0., ..., 0., 0., 0.]], dtype=float32)"
      ]
     },
     "execution_count": 22,
     "metadata": {},
     "output_type": "execute_result"
    }
   ],
   "source": [
    "y_cat_train "
   ]
  },
  {
   "cell_type": "code",
   "execution_count": 23,
   "metadata": {},
   "outputs": [
    {
     "data": {
      "text/plain": [
       "array([[0., 0., 0., ..., 0., 0., 1.],\n",
       "       [0., 0., 1., ..., 0., 0., 0.],\n",
       "       [0., 1., 0., ..., 0., 0., 0.],\n",
       "       ...,\n",
       "       [0., 0., 0., ..., 0., 1., 0.],\n",
       "       [0., 1., 0., ..., 0., 0., 0.],\n",
       "       [0., 0., 0., ..., 0., 0., 0.]], dtype=float32)"
      ]
     },
     "execution_count": 23,
     "metadata": {},
     "output_type": "execute_result"
    }
   ],
   "source": [
    "y_cat_test"
   ]
  },
  {
   "cell_type": "markdown",
   "metadata": {},
   "source": [
    "# Modeling"
   ]
  },
  {
   "cell_type": "markdown",
   "metadata": {},
   "source": [
    "## Create the model\n",
    "\n",
    "**TASK 5: Use Keras to create a model consisting of at least the following layers (but feel free to experiment):**\n",
    "\n",
    "* 2D Convolutional Layer, filters=28 and kernel_size=(3,3)\n",
    "* Pooling Layer where pool_size = (2,2) strides=(1,1)\n",
    "\n",
    "* Flatten Layer\n",
    "* Dense Layer (128 Neurons, but feel free to play around with this value), RELU activation\n",
    "\n",
    "* Final Dense Layer of 10 Neurons with a softmax activation\n",
    "\n",
    "**Then compile the model with these parameters: loss='categorical_crossentropy', optimizer='rmsprop', metrics=['accuracy']**"
   ]
  },
  {
   "cell_type": "code",
   "execution_count": 24,
   "metadata": {},
   "outputs": [],
   "source": [
    "from tensorflow.keras.models import Sequential\n",
    "from tensorflow.keras.layers import Dense, Conv2D, MaxPool2D, Flatten, Dropout"
   ]
  },
  {
   "cell_type": "markdown",
   "metadata": {},
   "source": [
    "##  Model Training \n",
    "\n",
    "**TASK 6: Train/Fit the model to the x_train set by using EarlyStop. Amount of epochs is up to you.**"
   ]
  },
  {
   "cell_type": "code",
   "execution_count": 25,
   "metadata": {},
   "outputs": [],
   "source": [
    "model = Sequential()\n",
    "model.add(Conv2D(filters=28, kernel_size=(3,3),\n",
    "                 input_shape=(28, 28, 1), \n",
    "                 activation='relu',)) \n",
    "model.add(MaxPool2D(pool_size=(2, 2),strides=(1, 1)))\n",
    "model.add(Flatten()) \n",
    "model.add(Dense(256, activation='relu'))\n",
    "model.add(Dropout(0.4))\n",
    "model.add(Dense(10, activation='softmax')) \n",
    "model.compile(loss='categorical_crossentropy', optimizer='rmsprop', metrics=['accuracy']) "
   ]
  },
  {
   "cell_type": "code",
   "execution_count": 26,
   "metadata": {},
   "outputs": [],
   "source": [
    "from tensorflow.keras.callbacks import EarlyStopping "
   ]
  },
  {
   "cell_type": "code",
   "execution_count": 27,
   "metadata": {},
   "outputs": [],
   "source": [
    "early_stop = EarlyStopping(monitor = \"val_accuracy\", patience = 3, restore_best_weights=True)"
   ]
  },
  {
   "cell_type": "code",
   "execution_count": 28,
   "metadata": {},
   "outputs": [
    {
     "name": "stdout",
     "output_type": "stream",
     "text": [
      "Epoch 1/10\n",
      "1875/1875 [==============================] - 203s 108ms/step - loss: 0.4126 - accuracy: 0.8596 - val_loss: 0.3244 - val_accuracy: 0.8863\n",
      "Epoch 2/10\n",
      "1875/1875 [==============================] - 207s 110ms/step - loss: 0.3035 - accuracy: 0.8949 - val_loss: 0.3082 - val_accuracy: 0.8921\n",
      "Epoch 3/10\n",
      "1875/1875 [==============================] - 201s 107ms/step - loss: 0.2867 - accuracy: 0.9022 - val_loss: 0.3109 - val_accuracy: 0.8936\n",
      "Epoch 4/10\n",
      "1875/1875 [==============================] - 193s 103ms/step - loss: 0.2804 - accuracy: 0.9044 - val_loss: 0.3053 - val_accuracy: 0.8954\n",
      "Epoch 5/10\n",
      "1875/1875 [==============================] - 196s 104ms/step - loss: 0.2758 - accuracy: 0.9068 - val_loss: 0.3328 - val_accuracy: 0.8971\n",
      "Epoch 6/10\n",
      "1875/1875 [==============================] - 197s 105ms/step - loss: 0.2711 - accuracy: 0.9084 - val_loss: 0.3294 - val_accuracy: 0.8943\n",
      "Epoch 7/10\n",
      "1875/1875 [==============================] - 197s 105ms/step - loss: 0.2687 - accuracy: 0.9098 - val_loss: 0.3128 - val_accuracy: 0.8953\n",
      "Epoch 8/10\n",
      "1875/1875 [==============================] - 196s 105ms/step - loss: 0.2643 - accuracy: 0.9136 - val_loss: 0.3206 - val_accuracy: 0.8999\n",
      "Epoch 9/10\n",
      "1875/1875 [==============================] - 189s 101ms/step - loss: 0.2655 - accuracy: 0.9131 - val_loss: 0.3213 - val_accuracy: 0.8951\n",
      "Epoch 10/10\n",
      "1875/1875 [==============================] - 191s 102ms/step - loss: 0.2659 - accuracy: 0.9133 - val_loss: 0.3193 - val_accuracy: 0.8982\n"
     ]
    },
    {
     "data": {
      "text/plain": [
       "<keras.callbacks.History at 0x20efa29f2e0>"
      ]
     },
     "execution_count": 28,
     "metadata": {},
     "output_type": "execute_result"
    }
   ],
   "source": [
    "model.fit(x_train, y = y_cat_train, validation_data=(x_test,y_cat_test), batch_size = 32, epochs = 10, verbose = 1, \n",
    "          callbacks = [early_stop]) "
   ]
  },
  {
   "cell_type": "code",
   "execution_count": 29,
   "metadata": {},
   "outputs": [
    {
     "data": {
      "text/html": [
       "<div>\n",
       "<style scoped>\n",
       "    .dataframe tbody tr th:only-of-type {\n",
       "        vertical-align: middle;\n",
       "    }\n",
       "\n",
       "    .dataframe tbody tr th {\n",
       "        vertical-align: top;\n",
       "    }\n",
       "\n",
       "    .dataframe thead th {\n",
       "        text-align: right;\n",
       "    }\n",
       "</style>\n",
       "<table border=\"1\" class=\"dataframe\">\n",
       "  <thead>\n",
       "    <tr style=\"text-align: right;\">\n",
       "      <th></th>\n",
       "      <th>loss</th>\n",
       "      <th>accuracy</th>\n",
       "      <th>val_loss</th>\n",
       "      <th>val_accuracy</th>\n",
       "    </tr>\n",
       "  </thead>\n",
       "  <tbody>\n",
       "    <tr>\n",
       "      <th>0</th>\n",
       "      <td>0.413</td>\n",
       "      <td>0.860</td>\n",
       "      <td>0.324</td>\n",
       "      <td>0.886</td>\n",
       "    </tr>\n",
       "    <tr>\n",
       "      <th>1</th>\n",
       "      <td>0.303</td>\n",
       "      <td>0.895</td>\n",
       "      <td>0.308</td>\n",
       "      <td>0.892</td>\n",
       "    </tr>\n",
       "    <tr>\n",
       "      <th>2</th>\n",
       "      <td>0.287</td>\n",
       "      <td>0.902</td>\n",
       "      <td>0.311</td>\n",
       "      <td>0.894</td>\n",
       "    </tr>\n",
       "    <tr>\n",
       "      <th>3</th>\n",
       "      <td>0.280</td>\n",
       "      <td>0.904</td>\n",
       "      <td>0.305</td>\n",
       "      <td>0.895</td>\n",
       "    </tr>\n",
       "    <tr>\n",
       "      <th>4</th>\n",
       "      <td>0.276</td>\n",
       "      <td>0.907</td>\n",
       "      <td>0.333</td>\n",
       "      <td>0.897</td>\n",
       "    </tr>\n",
       "  </tbody>\n",
       "</table>\n",
       "</div>"
      ],
      "text/plain": [
       "   loss  accuracy  val_loss  val_accuracy\n",
       "0 0.413     0.860     0.324         0.886\n",
       "1 0.303     0.895     0.308         0.892\n",
       "2 0.287     0.902     0.311         0.894\n",
       "3 0.280     0.904     0.305         0.895\n",
       "4 0.276     0.907     0.333         0.897"
      ]
     },
     "execution_count": 29,
     "metadata": {},
     "output_type": "execute_result"
    }
   ],
   "source": [
    "loss_df = pd.DataFrame(model.history.history) \n",
    "loss_df.head()"
   ]
  },
  {
   "cell_type": "markdown",
   "metadata": {},
   "source": [
    "**TASK 7: Plot values of metrics you used in your model.**"
   ]
  },
  {
   "cell_type": "code",
   "execution_count": 30,
   "metadata": {},
   "outputs": [
    {
     "data": {
      "image/png": "[encoded data removed]",
      "text/plain": [
       "<Figure size 864x432 with 1 Axes>"
      ]
     },
     "metadata": {},
     "output_type": "display_data"
    }
   ],
   "source": [
    "loss_df.plot(figsize = (12,6));"
   ]
  },
  {
   "cell_type": "code",
   "execution_count": null,
   "metadata": {},
   "outputs": [],
   "source": []
  },
  {
   "cell_type": "markdown",
   "metadata": {},
   "source": [
    "## Model Evaluation\n",
    "\n",
    "**TASK 8: Show the accuracy,precision,recall,f1-score the model achieved on the x_test data set. Keep in mind, there are quite a few ways to do this, but we recommend following the same procedure we showed in the MNIST lecture.**"
   ]
  },
  {
   "cell_type": "code",
   "execution_count": 31,
   "metadata": {},
   "outputs": [
    {
     "data": {
      "text/plain": [
       "['loss', 'accuracy']"
      ]
     },
     "execution_count": 31,
     "metadata": {},
     "output_type": "execute_result"
    }
   ],
   "source": [
    "model.metrics_names"
   ]
  },
  {
   "cell_type": "code",
   "execution_count": 32,
   "metadata": {},
   "outputs": [
    {
     "name": "stdout",
     "output_type": "stream",
     "text": [
      "313/313 [==============================] - 2s 8ms/step - loss: 0.3193 - accuracy: 0.8982\n"
     ]
    },
    {
     "data": {
      "text/plain": [
       "[0.31926020979881287, 0.8981999754905701]"
      ]
     },
     "execution_count": 32,
     "metadata": {},
     "output_type": "execute_result"
    }
   ],
   "source": [
    "model.evaluate(x_test,y_cat_test)"
   ]
  },
  {
   "cell_type": "code",
   "execution_count": 33,
   "metadata": {},
   "outputs": [
    {
     "name": "stdout",
     "output_type": "stream",
     "text": [
      "313/313 [==============================] - 2s 7ms/step\n"
     ]
    },
    {
     "data": {
      "text/plain": [
       "array([[9.6892272e-09, 8.9695931e-11, 1.4722602e-08, ..., 1.4458505e-03,\n",
       "        4.6132982e-06, 9.9833834e-01],\n",
       "       [2.6617710e-09, 3.8186428e-34, 1.0000000e+00, ..., 2.5694013e-21,\n",
       "        4.3833120e-18, 1.8388265e-29],\n",
       "       [7.4214623e-10, 1.0000000e+00, 1.0732933e-12, ..., 5.5690852e-13,\n",
       "        6.8701975e-11, 1.4357695e-17],\n",
       "       ...,\n",
       "       [4.8296442e-06, 6.3678658e-20, 1.2048757e-08, ..., 1.4666592e-13,\n",
       "        9.9996006e-01, 5.5050626e-14],\n",
       "       [2.5104796e-10, 1.0000000e+00, 5.6837586e-13, ..., 2.4558591e-13,\n",
       "        8.0025803e-10, 1.7224955e-14],\n",
       "       [1.2482371e-03, 2.1070842e-05, 1.2948167e-02, ..., 5.1080930e-01,\n",
       "        4.4785984e-02, 2.2500712e-02]], dtype=float32)"
      ]
     },
     "execution_count": 33,
     "metadata": {},
     "output_type": "execute_result"
    }
   ],
   "source": [
    "from sklearn.metrics import classification_report\n",
    "predictions = model.predict(x_test)\n",
    "predictions"
   ]
  },
  {
   "cell_type": "code",
   "execution_count": 34,
   "metadata": {},
   "outputs": [
    {
     "data": {
      "text/plain": [
       "array([9, 2, 1, ..., 8, 1, 7], dtype=int64)"
      ]
     },
     "execution_count": 34,
     "metadata": {},
     "output_type": "execute_result"
    }
   ],
   "source": [
    "preds=np.argmax(predictions,axis=1)\n",
    "preds"
   ]
  },
  {
   "cell_type": "code",
   "execution_count": 35,
   "metadata": {},
   "outputs": [
    {
     "data": {
      "text/plain": [
       "(10000, 10)"
      ]
     },
     "execution_count": 35,
     "metadata": {},
     "output_type": "execute_result"
    }
   ],
   "source": [
    "y_cat_test.shape"
   ]
  },
  {
   "cell_type": "code",
   "execution_count": 36,
   "metadata": {},
   "outputs": [
    {
     "data": {
      "text/plain": [
       "array([0., 0., 0., 0., 0., 0., 0., 0., 0., 1.], dtype=float32)"
      ]
     },
     "execution_count": 36,
     "metadata": {},
     "output_type": "execute_result"
    }
   ],
   "source": [
    "y_cat_test[0]"
   ]
  },
  {
   "cell_type": "code",
   "execution_count": 37,
   "metadata": {},
   "outputs": [
    {
     "data": {
      "text/plain": [
       "9"
      ]
     },
     "execution_count": 37,
     "metadata": {},
     "output_type": "execute_result"
    }
   ],
   "source": [
    "np.argmax(predictions[0])"
   ]
  },
  {
   "cell_type": "code",
   "execution_count": 38,
   "metadata": {},
   "outputs": [
    {
     "data": {
      "text/plain": [
       "array([9, 2, 1, ..., 8, 1, 5], dtype=uint8)"
      ]
     },
     "execution_count": 38,
     "metadata": {},
     "output_type": "execute_result"
    }
   ],
   "source": [
    "y_test"
   ]
  },
  {
   "cell_type": "code",
   "execution_count": 39,
   "metadata": {},
   "outputs": [
    {
     "name": "stdout",
     "output_type": "stream",
     "text": [
      "              precision    recall  f1-score   support\n",
      "\n",
      "           0       0.86      0.87      0.86      1000\n",
      "           1       0.99      0.96      0.98      1000\n",
      "           2       0.79      0.89      0.84      1000\n",
      "           3       0.88      0.92      0.90      1000\n",
      "           4       0.82      0.83      0.83      1000\n",
      "           5       0.99      0.95      0.97      1000\n",
      "           6       0.77      0.66      0.71      1000\n",
      "           7       0.94      0.96      0.95      1000\n",
      "           8       0.97      0.97      0.97      1000\n",
      "           9       0.96      0.97      0.96      1000\n",
      "\n",
      "    accuracy                           0.90     10000\n",
      "   macro avg       0.90      0.90      0.90     10000\n",
      "weighted avg       0.90      0.90      0.90     10000\n",
      "\n"
     ]
    }
   ],
   "source": [
    "print(classification_report(y_test,preds))"
   ]
  },
  {
   "cell_type": "code",
   "execution_count": 40,
   "metadata": {},
   "outputs": [
    {
     "data": {
      "text/plain": [
       "'Shirt'"
      ]
     },
     "execution_count": 40,
     "metadata": {},
     "output_type": "execute_result"
    }
   ],
   "source": [
    "classes[6]"
   ]
  },
  {
   "cell_type": "markdown",
   "metadata": {},
   "source": [
    "## Prediction"
   ]
  },
  {
   "cell_type": "code",
   "execution_count": 41,
   "metadata": {},
   "outputs": [],
   "source": [
    "samples=[x_test[19],x_test[15],x_test[12],x_test[14]]"
   ]
  },
  {
   "cell_type": "code",
   "execution_count": 42,
   "metadata": {},
   "outputs": [
    {
     "data": {
      "text/plain": [
       "<matplotlib.image.AxesImage at 0x20eafc468b0>"
      ]
     },
     "execution_count": 42,
     "metadata": {},
     "output_type": "execute_result"
    },
    {
     "data": {
      "image/png": "[encoded data removed]",
      "text/plain": [
       "<Figure size 720x432 with 1 Axes>"
      ]
     },
     "metadata": {},
     "output_type": "display_data"
    }
   ],
   "source": [
    "plt.imshow(samples[0])"
   ]
  },
  {
   "cell_type": "code",
   "execution_count": 43,
   "metadata": {},
   "outputs": [
    {
     "data": {
      "text/plain": [
       "array([[[0.        ],\n",
       "        [0.        ],\n",
       "        [0.        ],\n",
       "        [0.        ],\n",
       "        [0.        ],\n",
       "        [0.        ],\n",
       "        [0.        ],\n",
       "        [0.        ],\n",
       "        [0.        ],\n",
       "        [0.20392157],\n",
       "        [0.75294118],\n",
       "        [0.45098039],\n",
       "        [0.10588235],\n",
       "        [0.00392157],\n",
       "        [0.00392157],\n",
       "        [0.12156863],\n",
       "        [0.56078431],\n",
       "        [0.70196078],\n",
       "        [0.1254902 ],\n",
       "        [0.        ],\n",
       "        [0.        ],\n",
       "        [0.        ],\n",
       "        [0.        ],\n",
       "        [0.        ],\n",
       "        [0.        ],\n",
       "        [0.        ],\n",
       "        [0.        ],\n",
       "        [0.        ]],\n",
       "\n",
       "       [[0.        ],\n",
       "        [0.        ],\n",
       "        [0.        ],\n",
       "        [0.        ],\n",
       "        [0.        ],\n",
       "        [0.        ],\n",
       "        [0.01960784],\n",
       "        [0.44313725],\n",
       "        [0.7254902 ],\n",
       "        [0.84705882],\n",
       "        [0.74509804],\n",
       "        [0.89803922],\n",
       "        [0.92941176],\n",
       "        [0.8627451 ],\n",
       "        [0.85098039],\n",
       "        [0.94901961],\n",
       "        [0.78823529],\n",
       "        [0.74901961],\n",
       "        [0.87058824],\n",
       "        [0.65490196],\n",
       "        [0.34117647],\n",
       "        [0.        ],\n",
       "        [0.        ],\n",
       "        [0.        ],\n",
       "        [0.        ],\n",
       "        [0.        ],\n",
       "        [0.        ],\n",
       "        [0.        ]],\n",
       "\n",
       "       [[0.        ],\n",
       "        [0.        ],\n",
       "        [0.        ],\n",
       "        [0.        ],\n",
       "        [0.        ],\n",
       "        [0.19607843],\n",
       "        [0.68627451],\n",
       "        [0.76078431],\n",
       "        [0.74117647],\n",
       "        [0.72941176],\n",
       "        [0.7254902 ],\n",
       "        [0.73333333],\n",
       "        [0.78039216],\n",
       "        [0.7372549 ],\n",
       "        [0.72156863],\n",
       "        [0.75686275],\n",
       "        [0.7254902 ],\n",
       "        [0.7372549 ],\n",
       "        [0.71764706],\n",
       "        [0.73333333],\n",
       "        [0.75686275],\n",
       "        [0.82352941],\n",
       "        [0.05882353],\n",
       "        [0.        ],\n",
       "        [0.        ],\n",
       "        [0.        ],\n",
       "        [0.        ],\n",
       "        [0.        ]],\n",
       "\n",
       "       [[0.        ],\n",
       "        [0.        ],\n",
       "        [0.        ],\n",
       "        [0.        ],\n",
       "        [0.        ],\n",
       "        [0.78039216],\n",
       "        [0.76078431],\n",
       "        [0.70980392],\n",
       "        [0.7372549 ],\n",
       "        [0.74509804],\n",
       "        [0.74117647],\n",
       "        [0.7372549 ],\n",
       "        [0.75294118],\n",
       "        [0.78039216],\n",
       "        [0.77254902],\n",
       "        [0.76470588],\n",
       "        [0.75294118],\n",
       "        [0.74901961],\n",
       "        [0.7372549 ],\n",
       "        [0.72156863],\n",
       "        [0.69411765],\n",
       "        [0.74117647],\n",
       "        [0.69803922],\n",
       "        [0.        ],\n",
       "        [0.        ],\n",
       "        [0.        ],\n",
       "        [0.        ],\n",
       "        [0.        ]],\n",
       "\n",
       "       [[0.        ],\n",
       "        [0.        ],\n",
       "        [0.        ],\n",
       "        [0.        ],\n",
       "        [0.18823529],\n",
       "        [0.76078431],\n",
       "        [0.74117647],\n",
       "        [0.74117647],\n",
       "        [0.75686275],\n",
       "        [0.74117647],\n",
       "        [0.74117647],\n",
       "        [0.7372549 ],\n",
       "        [0.7372549 ],\n",
       "        [0.74901961],\n",
       "        [0.74901961],\n",
       "        [0.74509804],\n",
       "        [0.75686275],\n",
       "        [0.74509804],\n",
       "        [0.7372549 ],\n",
       "        [0.72941176],\n",
       "        [0.76078431],\n",
       "        [0.72156863],\n",
       "        [0.74117647],\n",
       "        [0.16470588],\n",
       "        [0.        ],\n",
       "        [0.        ],\n",
       "        [0.        ],\n",
       "        [0.        ]],\n",
       "\n",
       "       [[0.        ],\n",
       "        [0.        ],\n",
       "        [0.        ],\n",
       "        [0.        ],\n",
       "        [0.76078431],\n",
       "        [0.89411765],\n",
       "        [0.76862745],\n",
       "        [0.74509804],\n",
       "        [0.74117647],\n",
       "        [0.74901961],\n",
       "        [0.69411765],\n",
       "        [0.69411765],\n",
       "        [0.70980392],\n",
       "        [0.73333333],\n",
       "        [0.72941176],\n",
       "        [0.72156863],\n",
       "        [0.70588235],\n",
       "        [0.70980392],\n",
       "        [0.7372549 ],\n",
       "        [0.75294118],\n",
       "        [0.7372549 ],\n",
       "        [0.73333333],\n",
       "        [0.74901961],\n",
       "        [0.49411765],\n",
       "        [0.        ],\n",
       "        [0.        ],\n",
       "        [0.        ],\n",
       "        [0.        ]],\n",
       "\n",
       "       [[0.        ],\n",
       "        [0.        ],\n",
       "        [0.        ],\n",
       "        [0.        ],\n",
       "        [0.85882353],\n",
       "        [0.93333333],\n",
       "        [0.80392157],\n",
       "        [0.74509804],\n",
       "        [0.74509804],\n",
       "        [0.70196078],\n",
       "        [0.75294118],\n",
       "        [0.8627451 ],\n",
       "        [0.81960784],\n",
       "        [0.87843137],\n",
       "        [0.90588235],\n",
       "        [0.8627451 ],\n",
       "        [0.89019608],\n",
       "        [0.80784314],\n",
       "        [0.72156863],\n",
       "        [0.74117647],\n",
       "        [0.7372549 ],\n",
       "        [0.76862745],\n",
       "        [0.72941176],\n",
       "        [0.74509804],\n",
       "        [0.        ],\n",
       "        [0.        ],\n",
       "        [0.        ],\n",
       "        [0.        ]],\n",
       "\n",
       "       [[0.        ],\n",
       "        [0.        ],\n",
       "        [0.        ],\n",
       "        [0.25882353],\n",
       "        [0.92156863],\n",
       "        [0.88235294],\n",
       "        [0.79215686],\n",
       "        [0.7372549 ],\n",
       "        [0.74509804],\n",
       "        [0.86666667],\n",
       "        [0.83921569],\n",
       "        [0.74117647],\n",
       "        [0.63137255],\n",
       "        [0.6627451 ],\n",
       "        [0.74901961],\n",
       "        [0.69019608],\n",
       "        [0.81176471],\n",
       "        [0.76078431],\n",
       "        [0.9372549 ],\n",
       "        [0.74901961],\n",
       "        [0.7254902 ],\n",
       "        [0.76862745],\n",
       "        [0.72156863],\n",
       "        [0.69803922],\n",
       "        [0.18431373],\n",
       "        [0.        ],\n",
       "        [0.        ],\n",
       "        [0.        ]],\n",
       "\n",
       "       [[0.        ],\n",
       "        [0.        ],\n",
       "        [0.        ],\n",
       "        [0.51372549],\n",
       "        [0.95294118],\n",
       "        [0.85098039],\n",
       "        [0.77647059],\n",
       "        [0.73333333],\n",
       "        [0.89803922],\n",
       "        [0.70196078],\n",
       "        [0.67058824],\n",
       "        [0.64705882],\n",
       "        [0.63137255],\n",
       "        [0.67843137],\n",
       "        [0.68627451],\n",
       "        [0.61960784],\n",
       "        [0.68627451],\n",
       "        [0.46666667],\n",
       "        [0.70196078],\n",
       "        [0.9372549 ],\n",
       "        [0.70980392],\n",
       "        [0.75294118],\n",
       "        [0.74509804],\n",
       "        [0.76862745],\n",
       "        [0.45098039],\n",
       "        [0.        ],\n",
       "        [0.        ],\n",
       "        [0.        ]],\n",
       "\n",
       "       [[0.        ],\n",
       "        [0.        ],\n",
       "        [0.        ],\n",
       "        [0.        ],\n",
       "        [0.41960784],\n",
       "        [0.88235294],\n",
       "        [1.        ],\n",
       "        [0.7372549 ],\n",
       "        [0.82745098],\n",
       "        [0.68235294],\n",
       "        [0.48235294],\n",
       "        [0.8745098 ],\n",
       "        [0.86666667],\n",
       "        [0.89411765],\n",
       "        [0.94117647],\n",
       "        [0.85098039],\n",
       "        [0.82745098],\n",
       "        [0.58823529],\n",
       "        [0.8627451 ],\n",
       "        [0.83921569],\n",
       "        [0.7254902 ],\n",
       "        [0.84313725],\n",
       "        [0.81960784],\n",
       "        [0.27843137],\n",
       "        [0.        ],\n",
       "        [0.        ],\n",
       "        [0.        ],\n",
       "        [0.        ]],\n",
       "\n",
       "       [[0.        ],\n",
       "        [0.        ],\n",
       "        [0.        ],\n",
       "        [0.        ],\n",
       "        [0.        ],\n",
       "        [0.        ],\n",
       "        [0.38823529],\n",
       "        [0.85882353],\n",
       "        [0.72941176],\n",
       "        [0.88627451],\n",
       "        [0.92156863],\n",
       "        [0.88627451],\n",
       "        [0.77647059],\n",
       "        [0.74509804],\n",
       "        [0.72941176],\n",
       "        [0.76862745],\n",
       "        [0.82745098],\n",
       "        [0.87843137],\n",
       "        [0.90196078],\n",
       "        [0.72156863],\n",
       "        [0.81960784],\n",
       "        [0.45098039],\n",
       "        [0.        ],\n",
       "        [0.        ],\n",
       "        [0.        ],\n",
       "        [0.        ],\n",
       "        [0.        ],\n",
       "        [0.        ]],\n",
       "\n",
       "       [[0.        ],\n",
       "        [0.        ],\n",
       "        [0.        ],\n",
       "        [0.00392157],\n",
       "        [0.00784314],\n",
       "        [0.        ],\n",
       "        [0.        ],\n",
       "        [0.85882353],\n",
       "        [0.78039216],\n",
       "        [0.75686275],\n",
       "        [0.8       ],\n",
       "        [0.72156863],\n",
       "        [0.74509804],\n",
       "        [0.75294118],\n",
       "        [0.76470588],\n",
       "        [0.7372549 ],\n",
       "        [0.83137255],\n",
       "        [0.90588235],\n",
       "        [0.89019608],\n",
       "        [0.85098039],\n",
       "        [0.76470588],\n",
       "        [0.        ],\n",
       "        [0.        ],\n",
       "        [0.01176471],\n",
       "        [0.        ],\n",
       "        [0.        ],\n",
       "        [0.        ],\n",
       "        [0.        ]],\n",
       "\n",
       "       [[0.        ],\n",
       "        [0.        ],\n",
       "        [0.        ],\n",
       "        [0.        ],\n",
       "        [0.00784314],\n",
       "        [0.        ],\n",
       "        [0.        ],\n",
       "        [0.87058824],\n",
       "        [0.77647059],\n",
       "        [0.76862745],\n",
       "        [0.76470588],\n",
       "        [0.77254902],\n",
       "        [0.76078431],\n",
       "        [0.75686275],\n",
       "        [0.77647059],\n",
       "        [0.71764706],\n",
       "        [0.89411765],\n",
       "        [0.95686275],\n",
       "        [0.89019608],\n",
       "        [0.84705882],\n",
       "        [0.76470588],\n",
       "        [0.        ],\n",
       "        [0.        ],\n",
       "        [0.        ],\n",
       "        [0.        ],\n",
       "        [0.        ],\n",
       "        [0.        ],\n",
       "        [0.        ]],\n",
       "\n",
       "       [[0.        ],\n",
       "        [0.        ],\n",
       "        [0.        ],\n",
       "        [0.        ],\n",
       "        [0.00392157],\n",
       "        [0.        ],\n",
       "        [0.        ],\n",
       "        [0.85098039],\n",
       "        [0.77254902],\n",
       "        [0.76862745],\n",
       "        [0.78039216],\n",
       "        [0.77254902],\n",
       "        [0.76470588],\n",
       "        [0.77254902],\n",
       "        [0.76470588],\n",
       "        [0.76078431],\n",
       "        [0.78823529],\n",
       "        [0.90980392],\n",
       "        [0.89019608],\n",
       "        [0.81960784],\n",
       "        [0.71764706],\n",
       "        [0.        ],\n",
       "        [0.        ],\n",
       "        [0.00392157],\n",
       "        [0.        ],\n",
       "        [0.        ],\n",
       "        [0.        ],\n",
       "        [0.        ]],\n",
       "\n",
       "       [[0.        ],\n",
       "        [0.        ],\n",
       "        [0.        ],\n",
       "        [0.        ],\n",
       "        [0.00784314],\n",
       "        [0.        ],\n",
       "        [0.        ],\n",
       "        [0.85098039],\n",
       "        [0.77254902],\n",
       "        [0.77254902],\n",
       "        [0.78039216],\n",
       "        [0.77647059],\n",
       "        [0.77647059],\n",
       "        [0.78039216],\n",
       "        [0.76862745],\n",
       "        [0.79215686],\n",
       "        [0.74901961],\n",
       "        [0.75686275],\n",
       "        [0.76470588],\n",
       "        [0.77254902],\n",
       "        [0.72156863],\n",
       "        [0.        ],\n",
       "        [0.        ],\n",
       "        [0.        ],\n",
       "        [0.        ],\n",
       "        [0.        ],\n",
       "        [0.        ],\n",
       "        [0.        ]],\n",
       "\n",
       "       [[0.        ],\n",
       "        [0.        ],\n",
       "        [0.        ],\n",
       "        [0.        ],\n",
       "        [0.00784314],\n",
       "        [0.        ],\n",
       "        [0.        ],\n",
       "        [0.84313725],\n",
       "        [0.77647059],\n",
       "        [0.77647059],\n",
       "        [0.78039216],\n",
       "        [0.78039216],\n",
       "        [0.78823529],\n",
       "        [0.78823529],\n",
       "        [0.77647059],\n",
       "        [0.78823529],\n",
       "        [0.77254902],\n",
       "        [0.75686275],\n",
       "        [0.7254902 ],\n",
       "        [0.77647059],\n",
       "        [0.71764706],\n",
       "        [0.        ],\n",
       "        [0.        ],\n",
       "        [0.00392157],\n",
       "        [0.        ],\n",
       "        [0.        ],\n",
       "        [0.        ],\n",
       "        [0.        ]],\n",
       "\n",
       "       [[0.        ],\n",
       "        [0.        ],\n",
       "        [0.        ],\n",
       "        [0.        ],\n",
       "        [0.00784314],\n",
       "        [0.        ],\n",
       "        [0.        ],\n",
       "        [0.83137255],\n",
       "        [0.78039216],\n",
       "        [0.77647059],\n",
       "        [0.77647059],\n",
       "        [0.78823529],\n",
       "        [0.79215686],\n",
       "        [0.79215686],\n",
       "        [0.77254902],\n",
       "        [0.78039216],\n",
       "        [0.77647059],\n",
       "        [0.77647059],\n",
       "        [0.74509804],\n",
       "        [0.78039216],\n",
       "        [0.71764706],\n",
       "        [0.        ],\n",
       "        [0.        ],\n",
       "        [0.00392157],\n",
       "        [0.        ],\n",
       "        [0.        ],\n",
       "        [0.        ],\n",
       "        [0.        ]],\n",
       "\n",
       "       [[0.        ],\n",
       "        [0.        ],\n",
       "        [0.        ],\n",
       "        [0.        ],\n",
       "        [0.00784314],\n",
       "        [0.        ],\n",
       "        [0.        ],\n",
       "        [0.83921569],\n",
       "        [0.78823529],\n",
       "        [0.78039216],\n",
       "        [0.78039216],\n",
       "        [0.78823529],\n",
       "        [0.79215686],\n",
       "        [0.79215686],\n",
       "        [0.78039216],\n",
       "        [0.78823529],\n",
       "        [0.77647059],\n",
       "        [0.77254902],\n",
       "        [0.74901961],\n",
       "        [0.77647059],\n",
       "        [0.7254902 ],\n",
       "        [0.        ],\n",
       "        [0.        ],\n",
       "        [0.00392157],\n",
       "        [0.        ],\n",
       "        [0.        ],\n",
       "        [0.        ],\n",
       "        [0.        ]],\n",
       "\n",
       "       [[0.        ],\n",
       "        [0.        ],\n",
       "        [0.        ],\n",
       "        [0.        ],\n",
       "        [0.00784314],\n",
       "        [0.        ],\n",
       "        [0.        ],\n",
       "        [0.84705882],\n",
       "        [0.79607843],\n",
       "        [0.78039216],\n",
       "        [0.78823529],\n",
       "        [0.79215686],\n",
       "        [0.8       ],\n",
       "        [0.79215686],\n",
       "        [0.78039216],\n",
       "        [0.78823529],\n",
       "        [0.77647059],\n",
       "        [0.77254902],\n",
       "        [0.75686275],\n",
       "        [0.76862745],\n",
       "        [0.74901961],\n",
       "        [0.        ],\n",
       "        [0.        ],\n",
       "        [0.00392157],\n",
       "        [0.        ],\n",
       "        [0.        ],\n",
       "        [0.        ],\n",
       "        [0.        ]],\n",
       "\n",
       "       [[0.        ],\n",
       "        [0.        ],\n",
       "        [0.        ],\n",
       "        [0.        ],\n",
       "        [0.00784314],\n",
       "        [0.        ],\n",
       "        [0.        ],\n",
       "        [0.85098039],\n",
       "        [0.79215686],\n",
       "        [0.77254902],\n",
       "        [0.79607843],\n",
       "        [0.79215686],\n",
       "        [0.79215686],\n",
       "        [0.8       ],\n",
       "        [0.79607843],\n",
       "        [0.79215686],\n",
       "        [0.78823529],\n",
       "        [0.77647059],\n",
       "        [0.76470588],\n",
       "        [0.76470588],\n",
       "        [0.78823529],\n",
       "        [0.        ],\n",
       "        [0.        ],\n",
       "        [0.00392157],\n",
       "        [0.        ],\n",
       "        [0.        ],\n",
       "        [0.        ],\n",
       "        [0.        ]],\n",
       "\n",
       "       [[0.        ],\n",
       "        [0.        ],\n",
       "        [0.        ],\n",
       "        [0.        ],\n",
       "        [0.01176471],\n",
       "        [0.        ],\n",
       "        [0.        ],\n",
       "        [0.85098039],\n",
       "        [0.78039216],\n",
       "        [0.77254902],\n",
       "        [0.80392157],\n",
       "        [0.79607843],\n",
       "        [0.79607843],\n",
       "        [0.8       ],\n",
       "        [0.79215686],\n",
       "        [0.79215686],\n",
       "        [0.79215686],\n",
       "        [0.78039216],\n",
       "        [0.76470588],\n",
       "        [0.76470588],\n",
       "        [0.8       ],\n",
       "        [0.        ],\n",
       "        [0.        ],\n",
       "        [0.00392157],\n",
       "        [0.        ],\n",
       "        [0.        ],\n",
       "        [0.        ],\n",
       "        [0.        ]],\n",
       "\n",
       "       [[0.        ],\n",
       "        [0.        ],\n",
       "        [0.        ],\n",
       "        [0.        ],\n",
       "        [0.00784314],\n",
       "        [0.        ],\n",
       "        [0.        ],\n",
       "        [0.86666667],\n",
       "        [0.77647059],\n",
       "        [0.77647059],\n",
       "        [0.8       ],\n",
       "        [0.79215686],\n",
       "        [0.79215686],\n",
       "        [0.79607843],\n",
       "        [0.78823529],\n",
       "        [0.78039216],\n",
       "        [0.78823529],\n",
       "        [0.78039216],\n",
       "        [0.76470588],\n",
       "        [0.76862745],\n",
       "        [0.77647059],\n",
       "        [0.        ],\n",
       "        [0.        ],\n",
       "        [0.00392157],\n",
       "        [0.        ],\n",
       "        [0.        ],\n",
       "        [0.        ],\n",
       "        [0.        ]],\n",
       "\n",
       "       [[0.        ],\n",
       "        [0.        ],\n",
       "        [0.        ],\n",
       "        [0.        ],\n",
       "        [0.00784314],\n",
       "        [0.        ],\n",
       "        [0.        ],\n",
       "        [0.87843137],\n",
       "        [0.77647059],\n",
       "        [0.78823529],\n",
       "        [0.78823529],\n",
       "        [0.78039216],\n",
       "        [0.78039216],\n",
       "        [0.79215686],\n",
       "        [0.78823529],\n",
       "        [0.78039216],\n",
       "        [0.78039216],\n",
       "        [0.78039216],\n",
       "        [0.76470588],\n",
       "        [0.76862745],\n",
       "        [0.76078431],\n",
       "        [0.        ],\n",
       "        [0.        ],\n",
       "        [0.00392157],\n",
       "        [0.        ],\n",
       "        [0.        ],\n",
       "        [0.        ],\n",
       "        [0.        ]],\n",
       "\n",
       "       [[0.        ],\n",
       "        [0.        ],\n",
       "        [0.        ],\n",
       "        [0.        ],\n",
       "        [0.00784314],\n",
       "        [0.        ],\n",
       "        [0.04313725],\n",
       "        [0.74901961],\n",
       "        [0.76078431],\n",
       "        [0.79607843],\n",
       "        [0.78823529],\n",
       "        [0.78039216],\n",
       "        [0.77254902],\n",
       "        [0.77647059],\n",
       "        [0.78039216],\n",
       "        [0.77647059],\n",
       "        [0.77647059],\n",
       "        [0.77647059],\n",
       "        [0.78039216],\n",
       "        [0.77647059],\n",
       "        [0.76470588],\n",
       "        [0.        ],\n",
       "        [0.        ],\n",
       "        [0.00392157],\n",
       "        [0.        ],\n",
       "        [0.        ],\n",
       "        [0.        ],\n",
       "        [0.        ]],\n",
       "\n",
       "       [[0.        ],\n",
       "        [0.        ],\n",
       "        [0.        ],\n",
       "        [0.        ],\n",
       "        [0.00784314],\n",
       "        [0.        ],\n",
       "        [0.04313725],\n",
       "        [0.75686275],\n",
       "        [0.76862745],\n",
       "        [0.78823529],\n",
       "        [0.76862745],\n",
       "        [0.76862745],\n",
       "        [0.76862745],\n",
       "        [0.76862745],\n",
       "        [0.77254902],\n",
       "        [0.77647059],\n",
       "        [0.77647059],\n",
       "        [0.77254902],\n",
       "        [0.77647059],\n",
       "        [0.77647059],\n",
       "        [0.8       ],\n",
       "        [0.        ],\n",
       "        [0.        ],\n",
       "        [0.00392157],\n",
       "        [0.        ],\n",
       "        [0.        ],\n",
       "        [0.        ],\n",
       "        [0.        ]],\n",
       "\n",
       "       [[0.        ],\n",
       "        [0.        ],\n",
       "        [0.        ],\n",
       "        [0.        ],\n",
       "        [0.00784314],\n",
       "        [0.        ],\n",
       "        [0.03921569],\n",
       "        [0.74901961],\n",
       "        [0.76862745],\n",
       "        [0.75686275],\n",
       "        [0.75686275],\n",
       "        [0.76078431],\n",
       "        [0.77254902],\n",
       "        [0.76470588],\n",
       "        [0.76470588],\n",
       "        [0.77254902],\n",
       "        [0.77254902],\n",
       "        [0.76862745],\n",
       "        [0.76078431],\n",
       "        [0.77254902],\n",
       "        [0.78039216],\n",
       "        [0.        ],\n",
       "        [0.        ],\n",
       "        [0.00392157],\n",
       "        [0.        ],\n",
       "        [0.        ],\n",
       "        [0.        ],\n",
       "        [0.        ]],\n",
       "\n",
       "       [[0.        ],\n",
       "        [0.        ],\n",
       "        [0.        ],\n",
       "        [0.        ],\n",
       "        [0.01176471],\n",
       "        [0.        ],\n",
       "        [0.04313725],\n",
       "        [0.77647059],\n",
       "        [0.8       ],\n",
       "        [0.80392157],\n",
       "        [0.78823529],\n",
       "        [0.77254902],\n",
       "        [0.77647059],\n",
       "        [0.75686275],\n",
       "        [0.74901961],\n",
       "        [0.76470588],\n",
       "        [0.77647059],\n",
       "        [0.79215686],\n",
       "        [0.79607843],\n",
       "        [0.80784314],\n",
       "        [0.87058824],\n",
       "        [0.        ],\n",
       "        [0.        ],\n",
       "        [0.00392157],\n",
       "        [0.        ],\n",
       "        [0.        ],\n",
       "        [0.        ],\n",
       "        [0.        ]],\n",
       "\n",
       "       [[0.        ],\n",
       "        [0.        ],\n",
       "        [0.        ],\n",
       "        [0.        ],\n",
       "        [0.00784314],\n",
       "        [0.        ],\n",
       "        [0.        ],\n",
       "        [0.68627451],\n",
       "        [0.70588235],\n",
       "        [0.65882353],\n",
       "        [0.75686275],\n",
       "        [0.79215686],\n",
       "        [0.79215686],\n",
       "        [0.76078431],\n",
       "        [0.76470588],\n",
       "        [0.79215686],\n",
       "        [0.80784314],\n",
       "        [0.76470588],\n",
       "        [0.73333333],\n",
       "        [0.67843137],\n",
       "        [0.58039216],\n",
       "        [0.        ],\n",
       "        [0.        ],\n",
       "        [0.00392157],\n",
       "        [0.        ],\n",
       "        [0.        ],\n",
       "        [0.        ],\n",
       "        [0.        ]]])"
      ]
     },
     "execution_count": 43,
     "metadata": {},
     "output_type": "execute_result"
    }
   ],
   "source": [
    "samples[0]"
   ]
  },
  {
   "cell_type": "code",
   "execution_count": 44,
   "metadata": {},
   "outputs": [
    {
     "data": {
      "text/plain": [
       "(28, 28, 1)"
      ]
     },
     "execution_count": 44,
     "metadata": {},
     "output_type": "execute_result"
    }
   ],
   "source": [
    "img=samples[0]\n",
    "img.shape"
   ]
  },
  {
   "cell_type": "code",
   "execution_count": 45,
   "metadata": {},
   "outputs": [
    {
     "data": {
      "text/plain": [
       "numpy.ndarray"
      ]
     },
     "execution_count": 45,
     "metadata": {},
     "output_type": "execute_result"
    }
   ],
   "source": [
    "type(img)"
   ]
  },
  {
   "cell_type": "code",
   "execution_count": 46,
   "metadata": {},
   "outputs": [
    {
     "data": {
      "text/plain": [
       "(1, 28, 28, 1)"
      ]
     },
     "execution_count": 46,
     "metadata": {},
     "output_type": "execute_result"
    }
   ],
   "source": [
    "resized_img=np.expand_dims(img, axis=0)\n",
    "resized_img.shape"
   ]
  },
  {
   "cell_type": "code",
   "execution_count": 47,
   "metadata": {},
   "outputs": [
    {
     "name": "stdout",
     "output_type": "stream",
     "text": [
      "1/1 [==============================] - 0s 29ms/step\n"
     ]
    },
    {
     "data": {
      "text/plain": [
       "array([[9.6350670e-01, 2.1581190e-09, 3.8091563e-05, 4.7520782e-05,\n",
       "        6.1751891e-08, 5.7748839e-10, 3.6406375e-02, 1.0721831e-11,\n",
       "        1.1492612e-06, 2.3698727e-13]], dtype=float32)"
      ]
     },
     "execution_count": 47,
     "metadata": {},
     "output_type": "execute_result"
    }
   ],
   "source": [
    "model.predict(resized_img)"
   ]
  },
  {
   "cell_type": "code",
   "execution_count": 48,
   "metadata": {},
   "outputs": [
    {
     "name": "stdout",
     "output_type": "stream",
     "text": [
      "1/1 [==============================] - 0s 20ms/step\n"
     ]
    },
    {
     "data": {
      "text/plain": [
       "0"
      ]
     },
     "execution_count": 48,
     "metadata": {},
     "output_type": "execute_result"
    }
   ],
   "source": [
    "np.argmax(model.predict(resized_img))"
   ]
  },
  {
   "cell_type": "code",
   "execution_count": 49,
   "metadata": {},
   "outputs": [
    {
     "data": {
      "text/plain": [
       "'T-shirt/top'"
      ]
     },
     "execution_count": 49,
     "metadata": {},
     "output_type": "execute_result"
    }
   ],
   "source": [
    "classes[0]"
   ]
  },
  {
   "cell_type": "code",
   "execution_count": 50,
   "metadata": {},
   "outputs": [
    {
     "name": "stdout",
     "output_type": "stream",
     "text": [
      "1/1 [==============================] - 0s 25ms/step\n",
      "T-shirt/top   0.964\n",
      "Trouser       0.000\n",
      "Pullover      0.000\n",
      "Dress         0.000\n",
      "Coat          0.000\n",
      "Sandal        0.000\n",
      "Shirt         0.036\n",
      "Sneaker       0.000\n",
      "Bag           0.000\n",
      "Ankle boot    0.000\n",
      "dtype: float32\n",
      "1/1 [==============================] - 0s 20ms/step\n",
      "predicted class is : T-shirt/top\n",
      "\n",
      "1/1 [==============================] - 0s 18ms/step\n",
      "T-shirt/top   0.000\n",
      "Trouser       1.000\n",
      "Pullover      0.000\n",
      "Dress         0.000\n",
      "Coat          0.000\n",
      "Sandal        0.000\n",
      "Shirt         0.000\n",
      "Sneaker       0.000\n",
      "Bag           0.000\n",
      "Ankle boot    0.000\n",
      "dtype: float32\n",
      "1/1 [==============================] - 0s 21ms/step\n",
      "predicted class is : Trouser\n",
      "\n",
      "1/1 [==============================] - 0s 24ms/step\n",
      "T-shirt/top   0.000\n",
      "Trouser       0.000\n",
      "Pullover      0.000\n",
      "Dress         0.000\n",
      "Coat          0.000\n",
      "Sandal        0.052\n",
      "Shirt         0.000\n",
      "Sneaker       0.176\n",
      "Bag           0.772\n",
      "Ankle boot    0.000\n",
      "dtype: float32\n",
      "1/1 [==============================] - 0s 20ms/step\n",
      "predicted class is : Bag\n",
      "\n",
      "1/1 [==============================] - 0s 22ms/step\n",
      "T-shirt/top   0.000\n",
      "Trouser       0.000\n",
      "Pullover      0.102\n",
      "Dress         0.000\n",
      "Coat          0.893\n",
      "Sandal        0.000\n",
      "Shirt         0.006\n",
      "Sneaker       0.000\n",
      "Bag           0.000\n",
      "Ankle boot    0.000\n",
      "dtype: float32\n",
      "1/1 [==============================] - 0s 19ms/step\n",
      "predicted class is : Coat\n",
      "\n"
     ]
    }
   ],
   "source": [
    "for img in samples:\n",
    "    resized_img=np.expand_dims(img, axis=0)\n",
    "    print(pd.Series(model.predict(resized_img).flatten(), index = classes).round(3))\n",
    "    print(f\"predicted class is : {classes[np.argmax(model.predict(resized_img))]}\\n\")"
   ]
  },
  {
   "cell_type": "code",
   "execution_count": 51,
   "metadata": {},
   "outputs": [
    {
     "name": "stdout",
     "output_type": "stream",
     "text": [
      "(91, 150, 3)\n"
     ]
    },
    {
     "data": {
      "text/plain": [
       "<matplotlib.image.AxesImage at 0x20eafd8f5e0>"
      ]
     },
     "execution_count": 51,
     "metadata": {},
     "output_type": "execute_result"
    },
    {
     "data": {
      "image/png": "[encoded data removed]",
      "text/plain": [
       "<Figure size 720x432 with 1 Axes>"
      ]
     },
     "metadata": {},
     "output_type": "display_data"
    }
   ],
   "source": [
    "from tensorflow.keras.preprocessing import image\n",
    "imgGray = image.load_img(\"test2.jpg\",)# target_size=(28, 28))\n",
    "print (np.array(imgGray).shape)\n",
    "plt.imshow(imgGray)"
   ]
  },
  {
   "cell_type": "code",
   "execution_count": 52,
   "metadata": {},
   "outputs": [
    {
     "data": {
      "text/plain": [
       "<matplotlib.image.AxesImage at 0x20eafc8c8e0>"
      ]
     },
     "execution_count": 52,
     "metadata": {},
     "output_type": "execute_result"
    },
    {
     "data": {
      "image/png": "[encoded data removed]",
      "text/plain": [
       "<Figure size 720x432 with 1 Axes>"
      ]
     },
     "metadata": {},
     "output_type": "display_data"
    }
   ],
   "source": [
    "import tensorflow as tf\n",
    "imgGray = tf.image.rgb_to_grayscale(imgGray)\n",
    "plt.imshow(imgGray)"
   ]
  },
  {
   "cell_type": "code",
   "execution_count": 53,
   "metadata": {},
   "outputs": [
    {
     "data": {
      "image/png": "[encoded data removed]",
      "text/plain": [
       "<Figure size 720x432 with 1 Axes>"
      ]
     },
     "metadata": {},
     "output_type": "display_data"
    }
   ],
   "source": [
    "bg_adding = (np.ones(((150-91),150))*255).reshape((150-91),150,1)\n",
    "plt.imshow(np.concatenate ((bg_adding,imgGray), axis=0)) \n",
    "imgGray =  np.concatenate ((bg_adding,imgGray), axis=0)"
   ]
  },
  {
   "cell_type": "code",
   "execution_count": 54,
   "metadata": {},
   "outputs": [
    {
     "data": {
      "image/png": "[encoded data removed]",
      "text/plain": [
       "<Figure size 720x432 with 1 Axes>"
      ]
     },
     "metadata": {},
     "output_type": "display_data"
    }
   ],
   "source": [
    "size = (28, 28)\n",
    "plt.imshow(tf.image.resize(imgGray, size))\n",
    "imgGray = tf.image.resize(imgGray, size)"
   ]
  },
  {
   "cell_type": "code",
   "execution_count": 55,
   "metadata": {},
   "outputs": [
    {
     "data": {
      "text/plain": [
       "TensorShape([28, 28, 1])"
      ]
     },
     "execution_count": 55,
     "metadata": {},
     "output_type": "execute_result"
    }
   ],
   "source": [
    "imgGray.shape"
   ]
  },
  {
   "cell_type": "code",
   "execution_count": 56,
   "metadata": {},
   "outputs": [
    {
     "data": {
      "text/plain": [
       "(28, 28, 1)"
      ]
     },
     "execution_count": 56,
     "metadata": {},
     "output_type": "execute_result"
    }
   ],
   "source": [
    "imgGray = np.array(imgGray)\n",
    "imgGray.shape"
   ]
  },
  {
   "cell_type": "code",
   "execution_count": 57,
   "metadata": {},
   "outputs": [
    {
     "data": {
      "text/plain": [
       "array([[255.     , 255.     , 255.     , 255.     , 255.     , 255.     ,\n",
       "        255.     , 255.     , 255.     , 255.     , 255.     , 255.     ,\n",
       "        255.     , 255.     , 255.     , 255.     , 255.     , 255.     ,\n",
       "        255.     , 255.     , 255.     , 255.     , 255.     , 255.     ,\n",
       "        255.     , 255.     , 255.     , 255.     ],\n",
       "       [255.     , 255.     , 255.     , 255.     , 255.     , 255.     ,\n",
       "        255.     , 255.     , 255.     , 255.     , 255.     , 255.     ,\n",
       "        255.     , 255.     , 255.     , 255.     , 255.     , 255.     ,\n",
       "        255.     , 255.     , 255.     , 255.     , 255.     , 255.     ,\n",
       "        255.     , 255.     , 255.     , 255.     ],\n",
       "       [255.     , 255.     , 255.     , 255.     , 255.     , 255.     ,\n",
       "        255.     , 255.     , 255.     , 255.     , 255.     , 255.     ,\n",
       "        255.     , 255.     , 255.     , 255.     , 255.     , 255.     ,\n",
       "        255.     , 255.     , 255.     , 255.     , 255.     , 255.     ,\n",
       "        255.     , 255.     , 255.     , 255.     ],\n",
       "       [255.     , 255.     , 255.     , 255.     , 255.     , 255.     ,\n",
       "        255.     , 255.     , 255.     , 255.     , 255.     , 255.     ,\n",
       "        255.     , 255.     , 255.     , 255.     , 255.     , 255.     ,\n",
       "        255.     , 255.     , 255.     , 255.     , 255.     , 255.     ,\n",
       "        255.     , 255.     , 255.     , 255.     ],\n",
       "       [255.     , 255.     , 255.     , 255.     , 255.     , 255.     ,\n",
       "        255.     , 255.     , 255.     , 255.     , 255.     , 255.     ,\n",
       "        255.     , 255.     , 255.     , 255.     , 255.     , 255.     ,\n",
       "        255.     , 255.     , 255.     , 255.     , 255.     , 255.     ,\n",
       "        255.     , 255.     , 255.     , 255.     ],\n",
       "       [255.     , 255.     , 255.     , 255.     , 255.     , 255.     ,\n",
       "        255.     , 255.     , 255.     , 255.     , 255.     , 255.     ,\n",
       "        255.     , 255.     , 255.     , 255.     , 255.     , 255.     ,\n",
       "        255.     , 255.     , 255.     , 255.     , 255.     , 255.     ,\n",
       "        255.     , 255.     , 255.     , 255.     ],\n",
       "       [255.     , 255.     , 255.     , 255.     , 255.     , 255.     ,\n",
       "        255.     , 255.     , 255.     , 255.     , 255.     , 255.     ,\n",
       "        255.     , 255.     , 255.     , 255.     , 255.     , 255.     ,\n",
       "        255.     , 255.     , 255.     , 255.     , 255.     , 255.     ,\n",
       "        255.     , 255.     , 255.     , 255.     ],\n",
       "       [255.     , 255.     , 255.     , 255.     , 255.     , 255.     ,\n",
       "        255.     , 255.     , 255.     , 255.     , 255.     , 255.     ,\n",
       "        255.     , 255.     , 255.     , 255.     , 255.     , 255.     ,\n",
       "        255.     , 255.     , 255.     , 255.     , 255.     , 255.     ,\n",
       "        255.     , 255.     , 255.     , 255.     ],\n",
       "       [255.     , 255.     , 255.     , 255.     , 255.     , 255.     ,\n",
       "        255.     , 255.     , 255.     , 255.     , 255.     , 255.     ,\n",
       "        255.     , 255.     , 255.     , 255.     , 255.     , 255.     ,\n",
       "        255.     , 255.     , 255.     , 255.     , 255.     , 255.     ,\n",
       "        255.     , 255.     , 255.     , 255.     ],\n",
       "       [255.     , 255.     , 255.     , 255.     , 255.     , 255.     ,\n",
       "        255.     , 255.     , 255.     , 255.     , 255.     , 255.     ,\n",
       "        255.     , 255.     , 255.     , 255.     , 255.     , 255.     ,\n",
       "        255.     , 255.     , 255.     , 255.     , 255.     , 255.     ,\n",
       "        255.     , 255.     , 255.     , 255.     ],\n",
       "       [255.     , 255.     , 255.     , 255.     , 255.     , 255.     ,\n",
       "        255.     , 255.     , 255.     , 255.     , 255.     , 255.     ,\n",
       "        255.     , 255.     , 255.     , 255.     , 255.     , 255.     ,\n",
       "        255.     , 255.     , 255.     , 255.     , 255.     , 255.     ,\n",
       "        255.     , 255.     , 255.     , 255.     ],\n",
       "       [248.89285, 244.77934, 251.2028 , 248.     , 248.     , 248.     ,\n",
       "        248.     , 248.     , 248.     , 248.     , 248.     , 248.     ,\n",
       "        247.     , 247.     , 247.     , 247.     , 247.     , 247.     ,\n",
       "        247.     , 247.     , 247.     , 246.     , 246.     , 246.     ,\n",
       "        246.     , 246.     , 246.     , 246.     ],\n",
       "       [247.     , 235.34822, 233.69514, 247.5357 , 247.8176 , 248.     ,\n",
       "        247.5357 , 248.29846, 247.20407, 246.87245, 248.8125 , 249.60841,\n",
       "        246.5357 , 246.91708, 247.     , 246.5357 , 246.0574 , 246.     ,\n",
       "        246.5357 , 246.98343, 247.     , 245.5357 , 245.07143, 245.07143,\n",
       "        245.07143, 244.     , 244.     , 244.     ],\n",
       "       [247.     , 243.97705, 236.44133, 227.7143 , 227.21556, 226.89287,\n",
       "        225.26402, 232.10968, 222.64162, 230.89159, 233.3393 , 250.67857,\n",
       "        246.     , 246.82143, 247.     , 246.     , 246.     , 246.     ,\n",
       "        246.     , 245.0357 , 245.     , 244.     , 244.     , 244.     ,\n",
       "        244.     , 244.     , 244.     , 244.     ],\n",
       "       [246.     , 246.     , 229.79335, 228.95535, 224.15178, 223.3023 ,\n",
       "        223.2283 , 225.96176, 208.14037, 221.2296 , 182.66966, 150.56381,\n",
       "        245.15433, 246.32526, 246.     , 245.     , 244.10715, 244.     ,\n",
       "        244.     , 244.     , 244.     , 243.     , 243.82143, 243.82143,\n",
       "        243.     , 243.82143, 243.82143, 242.     ],\n",
       "       [244.92857, 242.49873, 185.07024, 230.88393, 233.7857 , 184.83034,\n",
       "        232.1722 , 230.50253, 164.93367, 242.33165, 210.43744, 207.98593,\n",
       "        207.42088, 243.83418, 244.     , 243.     , 243.41454, 243.4643 ,\n",
       "        243.4643 , 242.94771, 242.92857, 242.4643 , 242.     , 242.     ,\n",
       "        242.4643 , 241.4643 , 241.4643 , 241.     ],\n",
       "       [244.     , 244.19135, 134.56114, 230.11607, 216.3048 , 154.34557,\n",
       "        230.52931, 231.48349, 155.83289, 208.50002, 204.95541, 233.94904,\n",
       "        223.96823, 244.3138 , 242.10715, 243.     , 243.     , 243.     ,\n",
       "        243.     , 242.0357 , 242.     , 242.     , 242.     , 242.     ,\n",
       "        242.     , 241.     , 241.     , 241.     ],\n",
       "       [243.     , 240.32143, 250.07143, 214.4375 , 221.5893 , 222.63394,\n",
       "        200.43752, 200.49107, 211.94643, 233.45535, 239.1875 , 236.9732 ,\n",
       "        227.39287, 242.13393, 242.     , 242.     , 242.     , 242.     ,\n",
       "        242.     , 241.0357 , 241.     , 241.     , 241.     , 241.     ,\n",
       "        241.     , 241.     , 241.     , 241.     ],\n",
       "       [242.39285, 243.13902, 245.764  , 229.16072, 233.61734, 231.82144,\n",
       "        231.70537, 229.30995, 230.     , 231.98596, 233.44646, 235.99744,\n",
       "        214.59938, 230.76775, 236.96936, 242.     , 242.     , 242.     ,\n",
       "        242.     , 240.45024, 240.39285, 240.39285, 240.39285, 240.39285,\n",
       "        240.39285, 239.7857 , 239.7857 , 239.     ],\n",
       "       [242.     , 241.48341, 241.0357 , 237.16965, 231.0357 , 231.0357 ,\n",
       "        230.     , 229.32143, 229.     , 229.85713, 227.04463, 246.8291 ,\n",
       "        231.88264, 240.46172, 235.33804, 240.     , 240.     , 240.     ,\n",
       "        240.     , 239.0357 , 239.     , 239.     , 239.     , 239.     ,\n",
       "        239.     , 237.0357 , 237.0357 , 239.     ],\n",
       "       [241.     , 241.1722 , 242.46046, 234.40178, 231.21173, 230.67857,\n",
       "        230.     , 229.96428, 229.     , 229.     , 231.00893, 235.61098,\n",
       "        239.52298, 237.61989, 195.77945, 232.96426, 236.48087, 237.0625 ,\n",
       "        238.     , 238.     , 238.     , 238.     , 238.     , 238.     ,\n",
       "        238.     , 238.     , 238.     , 238.     ],\n",
       "       [241.     , 240.63647, 230.2449 , 238.24107, 236.47067, 233.34566,\n",
       "        226.60713, 230.69133, 229.97577, 229.     , 228.70535, 230.25127,\n",
       "        227.58803, 219.63657, 236.60204, 240.2232 , 219.2463 , 232.69644,\n",
       "        237.73341, 238.67857, 238.67857, 237.32143, 237.32143, 237.32143,\n",
       "        238.67857, 237.32143, 237.32143, 237.32143],\n",
       "       [241.     , 239.37372, 236.05995, 238.     , 240.39285, 236.96556,\n",
       "        228.72704, 225.70152, 225.99872, 228.92857, 229.67857, 231.07144,\n",
       "        231.9643 , 223.75003, 231.74745, 202.98595, 239.12248, 223.25893,\n",
       "        237.60715, 239.     , 239.     , 239.     , 239.     , 239.     ,\n",
       "        237.07143, 237.     , 237.     , 237.     ],\n",
       "       [254.21428, 252.5357 , 236.31505, 235.57141, 233.40689, 233.     ,\n",
       "        231.     , 228.71938, 226.7143 , 230.39285, 231.59822, 232.     ,\n",
       "        231.39285, 230.57144, 230.39285, 228.9643 , 232.18498, 233.00894,\n",
       "        237.     , 238.54974, 238.60715, 238.     , 237.02168, 240.7857 ,\n",
       "        244.9643 , 238.37372, 253.14285, 251.     ],\n",
       "       [254.     , 235.72322, 215.25   , 212.75   , 222.11607, 215.47322,\n",
       "        221.25893, 221.86607, 222.16072, 226.04465, 231.1875 , 230.58035,\n",
       "        231.84822, 230.67857, 232.75   , 232.     , 231.9375 , 234.25   ,\n",
       "        235.5    , 232.60715, 237.24107, 239.5    , 238.19643, 232.45535,\n",
       "        231.     , 219.5625 , 216.59816, 250.05359],\n",
       "       [254.17857, 212.07016, 175.     , 167.04462, 159.71815, 142.86101,\n",
       "        143.75261, 148.38522, 161.63515, 173.56494, 202.54453, 213.39156,\n",
       "        216.19896, 210.19261, 209.3023 , 219.31374, 225.89409, 228.03568,\n",
       "        229.03568, 226.14282, 223.24997, 216.85841, 214.63141, 215.05217,\n",
       "        176.58922, 176.04851, 208.44926, 248.94261],\n",
       "       [247.65436, 208.21432, 175.22198, 167.74098, 163.83286, 147.97195,\n",
       "        151.44888, 151.32652, 158.39288, 187.24475, 207.47289, 190.32011,\n",
       "        160.00003, 151.83531, 155.37631, 151.64536, 155.44257, 156.60712,\n",
       "        149.84569, 147.3506 , 153.71045, 162.10724, 170.07649, 173.32014,\n",
       "        212.96417, 230.77167, 239.8227 , 242.6671 ],\n",
       "       [254.03189, 250.99617, 247.31888, 243.35715, 241.81886, 241.79591,\n",
       "        240.5982 , 241.13393, 241.72705, 240.88902, 242.77678, 243.     ,\n",
       "        242.82143, 242.2296 , 242.     , 240.87115, 243.1033 , 242.25891,\n",
       "        243.89159, 241.07397, 243.10075, 244.06378, 246.4579 , 247.64157,\n",
       "        249.12497, 251.088  , 252.9158 , 255.     ]], dtype=float32)"
      ]
     },
     "execution_count": 57,
     "metadata": {},
     "output_type": "execute_result"
    }
   ],
   "source": [
    "imgGray[:,:,0]"
   ]
  },
  {
   "cell_type": "code",
   "execution_count": 58,
   "metadata": {},
   "outputs": [],
   "source": [
    "height, width,_ = imgGray.shape\n",
    "\n",
    "for i in range(height):\n",
    "    for j in range(width):\n",
    "        # img[i,j] is the grayscale pixel at position (i, j)\n",
    "        # check if it's [255] and replace with [0] if so\n",
    "        if imgGray[i,j] > 250:\n",
    "            imgGray[i, j] = 0 "
   ]
  },
  {
   "cell_type": "code",
   "execution_count": 59,
   "metadata": {},
   "outputs": [
    {
     "data": {
      "text/plain": [
       "<matplotlib.image.AxesImage at 0x20eb0e782b0>"
      ]
     },
     "execution_count": 59,
     "metadata": {},
     "output_type": "execute_result"
    },
    {
     "data": {
      "image/png": "[encoded data removed]",
      "text/plain": [
       "<Figure size 720x432 with 1 Axes>"
      ]
     },
     "metadata": {},
     "output_type": "display_data"
    }
   ],
   "source": [
    "plt.imshow(imgGray)"
   ]
  },
  {
   "cell_type": "code",
   "execution_count": 60,
   "metadata": {},
   "outputs": [
    {
     "data": {
      "text/plain": [
       "(0.0, 249.60841)"
      ]
     },
     "execution_count": 60,
     "metadata": {},
     "output_type": "execute_result"
    }
   ],
   "source": [
    "np.array(imgGray).min(), np.array(imgGray).max()"
   ]
  },
  {
   "cell_type": "code",
   "execution_count": 61,
   "metadata": {},
   "outputs": [
    {
     "data": {
      "text/plain": [
       "(28, 28, 1)"
      ]
     },
     "execution_count": 61,
     "metadata": {},
     "output_type": "execute_result"
    }
   ],
   "source": [
    "imgGray = imgGray/255\n",
    "imgGray.shape"
   ]
  },
  {
   "cell_type": "code",
   "execution_count": 62,
   "metadata": {},
   "outputs": [
    {
     "data": {
      "text/plain": [
       "<matplotlib.image.AxesImage at 0x20eb0ed9250>"
      ]
     },
     "execution_count": 62,
     "metadata": {},
     "output_type": "execute_result"
    },
    {
     "data": {
      "image/png": "[encoded data removed]",
      "text/plain": [
       "<Figure size 720x432 with 1 Axes>"
      ]
     },
     "metadata": {},
     "output_type": "display_data"
    }
   ],
   "source": [
    "plt.imshow(imgGray)"
   ]
  },
  {
   "cell_type": "code",
   "execution_count": 63,
   "metadata": {},
   "outputs": [
    {
     "data": {
      "text/plain": [
       "(1, 28, 28, 1)"
      ]
     },
     "execution_count": 63,
     "metadata": {},
     "output_type": "execute_result"
    }
   ],
   "source": [
    "imgGray= np.expand_dims(imgGray, axis=0)\n",
    "imgGray.shape"
   ]
  },
  {
   "cell_type": "code",
   "execution_count": 64,
   "metadata": {},
   "outputs": [
    {
     "name": "stdout",
     "output_type": "stream",
     "text": [
      "1/1 [==============================] - 0s 23ms/step\n"
     ]
    },
    {
     "data": {
      "text/plain": [
       "array([0., 0., 0., 0., 0., 0., 0., 0., 1., 0.], dtype=float32)"
      ]
     },
     "execution_count": 64,
     "metadata": {},
     "output_type": "execute_result"
    }
   ],
   "source": [
    "model.predict(imgGray).round(3).flatten()"
   ]
  },
  {
   "cell_type": "code",
   "execution_count": 65,
   "metadata": {},
   "outputs": [
    {
     "name": "stdout",
     "output_type": "stream",
     "text": [
      "1/1 [==============================] - 0s 35ms/step\n"
     ]
    },
    {
     "data": {
      "text/plain": [
       "0   0.000\n",
       "1   0.000\n",
       "2   0.000\n",
       "3   0.000\n",
       "4   0.000\n",
       "5   0.000\n",
       "6   0.000\n",
       "7   0.000\n",
       "8   1.000\n",
       "9   0.000\n",
       "dtype: float32"
      ]
     },
     "execution_count": 65,
     "metadata": {},
     "output_type": "execute_result"
    }
   ],
   "source": [
    "pd.Series(model.predict(imgGray).round(3).flatten())"
   ]
  },
  {
   "cell_type": "code",
   "execution_count": 66,
   "metadata": {},
   "outputs": [
    {
     "data": {
      "text/plain": [
       "0    T-shirt/top\n",
       "1        Trouser\n",
       "2       Pullover\n",
       "3          Dress\n",
       "4           Coat\n",
       "5         Sandal\n",
       "6          Shirt\n",
       "7        Sneaker\n",
       "8            Bag\n",
       "9     Ankle boot\n",
       "dtype: object"
      ]
     },
     "execution_count": 66,
     "metadata": {},
     "output_type": "execute_result"
    }
   ],
   "source": [
    "pd.Series(classes)\n"
   ]
  },
  {
   "cell_type": "code",
   "execution_count": 68,
   "metadata": {},
   "outputs": [
    {
     "name": "stdout",
     "output_type": "stream",
     "text": [
      "(91, 150, 3)\n"
     ]
    },
    {
     "data": {
      "text/plain": [
       "<matplotlib.image.AxesImage at 0x20eafd08790>"
      ]
     },
     "execution_count": 68,
     "metadata": {},
     "output_type": "execute_result"
    },
    {
     "data": {
      "image/png": "[encoded data removed]",
      "text/plain": [
       "<Figure size 720x432 with 1 Axes>"
      ]
     },
     "metadata": {},
     "output_type": "display_data"
    }
   ],
   "source": [
    "imgGray = image.load_img(\"s4.jpg\",)# target_size=(28, 28))\n",
    "print (np.array(imgGray).shape)\n",
    "plt.imshow(imgGray)"
   ]
  },
  {
   "cell_type": "code",
   "execution_count": 69,
   "metadata": {},
   "outputs": [
    {
     "data": {
      "text/plain": [
       "<matplotlib.image.AxesImage at 0x20eaf8c8d30>"
      ]
     },
     "execution_count": 69,
     "metadata": {},
     "output_type": "execute_result"
    },
    {
     "data": {
      "image/png": "[encoded data removed]",
      "text/plain": [
       "<Figure size 720x432 with 1 Axes>"
      ]
     },
     "metadata": {},
     "output_type": "display_data"
    }
   ],
   "source": [
    "imgGray = tf.image.rgb_to_grayscale(imgGray)\n",
    "plt.imshow(imgGray)"
   ]
  },
  {
   "cell_type": "code",
   "execution_count": 70,
   "metadata": {},
   "outputs": [
    {
     "data": {
      "image/png": "[encoded data removed]",
      "text/plain": [
       "<Figure size 720x432 with 1 Axes>"
      ]
     },
     "metadata": {},
     "output_type": "display_data"
    }
   ],
   "source": [
    "bg_adding = (np.ones(((150-91),150))*255).reshape((150-91),150,1) \n",
    "plt.imshow(np.concatenate ((bg_adding,imgGray), axis=0)) \n",
    "imgGray =  np.concatenate ((bg_adding,imgGray), axis=0)"
   ]
  },
  {
   "cell_type": "code",
   "execution_count": 71,
   "metadata": {},
   "outputs": [
    {
     "data": {
      "image/png": "[encoded data removed]",
      "text/plain": [
       "<Figure size 720x432 with 1 Axes>"
      ]
     },
     "metadata": {},
     "output_type": "display_data"
    }
   ],
   "source": [
    "size = (28, 28)\n",
    "plt.imshow(tf.image.resize(imgGray, size))\n",
    "imgGray = tf.image.resize(imgGray, size)"
   ]
  },
  {
   "cell_type": "code",
   "execution_count": 72,
   "metadata": {},
   "outputs": [
    {
     "data": {
      "text/plain": [
       "TensorShape([28, 28, 1])"
      ]
     },
     "execution_count": 72,
     "metadata": {},
     "output_type": "execute_result"
    }
   ],
   "source": [
    "imgGray.shape"
   ]
  },
  {
   "cell_type": "code",
   "execution_count": 73,
   "metadata": {},
   "outputs": [
    {
     "data": {
      "text/plain": [
       "(28, 28, 1)"
      ]
     },
     "execution_count": 73,
     "metadata": {},
     "output_type": "execute_result"
    }
   ],
   "source": [
    "imgGray = np.array(imgGray)\n",
    "imgGray.shape"
   ]
  },
  {
   "cell_type": "code",
   "execution_count": 74,
   "metadata": {},
   "outputs": [
    {
     "data": {
      "text/plain": [
       "array([[2.55000000e+02, 2.55000000e+02, 2.55000000e+02, 2.55000000e+02,\n",
       "        2.55000000e+02, 2.55000000e+02, 2.55000000e+02, 2.55000000e+02,\n",
       "        2.55000000e+02, 2.55000000e+02, 2.55000000e+02, 2.55000000e+02,\n",
       "        2.55000000e+02, 2.55000000e+02, 2.55000000e+02, 2.55000000e+02,\n",
       "        2.55000000e+02, 2.55000000e+02, 2.55000000e+02, 2.55000000e+02,\n",
       "        2.55000000e+02, 2.55000000e+02, 2.55000000e+02, 2.55000000e+02,\n",
       "        2.55000000e+02, 2.55000000e+02, 2.55000000e+02, 2.55000000e+02],\n",
       "       [2.55000000e+02, 2.55000000e+02, 2.55000000e+02, 2.55000000e+02,\n",
       "        2.55000000e+02, 2.55000000e+02, 2.55000000e+02, 2.55000000e+02,\n",
       "        2.55000000e+02, 2.55000000e+02, 2.55000000e+02, 2.55000000e+02,\n",
       "        2.55000000e+02, 2.55000000e+02, 2.55000000e+02, 2.55000000e+02,\n",
       "        2.55000000e+02, 2.55000000e+02, 2.55000000e+02, 2.55000000e+02,\n",
       "        2.55000000e+02, 2.55000000e+02, 2.55000000e+02, 2.55000000e+02,\n",
       "        2.55000000e+02, 2.55000000e+02, 2.55000000e+02, 2.55000000e+02],\n",
       "       [2.55000000e+02, 2.55000000e+02, 2.55000000e+02, 2.55000000e+02,\n",
       "        2.55000000e+02, 2.55000000e+02, 2.55000000e+02, 2.55000000e+02,\n",
       "        2.55000000e+02, 2.55000000e+02, 2.55000000e+02, 2.55000000e+02,\n",
       "        2.55000000e+02, 2.55000000e+02, 2.55000000e+02, 2.55000000e+02,\n",
       "        2.55000000e+02, 2.55000000e+02, 2.55000000e+02, 2.55000000e+02,\n",
       "        2.55000000e+02, 2.55000000e+02, 2.55000000e+02, 2.55000000e+02,\n",
       "        2.55000000e+02, 2.55000000e+02, 2.55000000e+02, 2.55000000e+02],\n",
       "       [2.55000000e+02, 2.55000000e+02, 2.55000000e+02, 2.55000000e+02,\n",
       "        2.55000000e+02, 2.55000000e+02, 2.55000000e+02, 2.55000000e+02,\n",
       "        2.55000000e+02, 2.55000000e+02, 2.55000000e+02, 2.55000000e+02,\n",
       "        2.55000000e+02, 2.55000000e+02, 2.55000000e+02, 2.55000000e+02,\n",
       "        2.55000000e+02, 2.55000000e+02, 2.55000000e+02, 2.55000000e+02,\n",
       "        2.55000000e+02, 2.55000000e+02, 2.55000000e+02, 2.55000000e+02,\n",
       "        2.55000000e+02, 2.55000000e+02, 2.55000000e+02, 2.55000000e+02],\n",
       "       [2.55000000e+02, 2.55000000e+02, 2.55000000e+02, 2.55000000e+02,\n",
       "        2.55000000e+02, 2.55000000e+02, 2.55000000e+02, 2.55000000e+02,\n",
       "        2.55000000e+02, 2.55000000e+02, 2.55000000e+02, 2.55000000e+02,\n",
       "        2.55000000e+02, 2.55000000e+02, 2.55000000e+02, 2.55000000e+02,\n",
       "        2.55000000e+02, 2.55000000e+02, 2.55000000e+02, 2.55000000e+02,\n",
       "        2.55000000e+02, 2.55000000e+02, 2.55000000e+02, 2.55000000e+02,\n",
       "        2.55000000e+02, 2.55000000e+02, 2.55000000e+02, 2.55000000e+02],\n",
       "       [2.55000000e+02, 2.55000000e+02, 2.55000000e+02, 2.55000000e+02,\n",
       "        2.55000000e+02, 2.55000000e+02, 2.55000000e+02, 2.55000000e+02,\n",
       "        2.55000000e+02, 2.55000000e+02, 2.55000000e+02, 2.55000000e+02,\n",
       "        2.55000000e+02, 2.55000000e+02, 2.55000000e+02, 2.55000000e+02,\n",
       "        2.55000000e+02, 2.55000000e+02, 2.55000000e+02, 2.55000000e+02,\n",
       "        2.55000000e+02, 2.55000000e+02, 2.55000000e+02, 2.55000000e+02,\n",
       "        2.55000000e+02, 2.55000000e+02, 2.55000000e+02, 2.55000000e+02],\n",
       "       [2.55000000e+02, 2.55000000e+02, 2.55000000e+02, 2.55000000e+02,\n",
       "        2.55000000e+02, 2.55000000e+02, 2.55000000e+02, 2.55000000e+02,\n",
       "        2.55000000e+02, 2.55000000e+02, 2.55000000e+02, 2.55000000e+02,\n",
       "        2.55000000e+02, 2.55000000e+02, 2.55000000e+02, 2.55000000e+02,\n",
       "        2.55000000e+02, 2.55000000e+02, 2.55000000e+02, 2.55000000e+02,\n",
       "        2.55000000e+02, 2.55000000e+02, 2.55000000e+02, 2.55000000e+02,\n",
       "        2.55000000e+02, 2.55000000e+02, 2.55000000e+02, 2.55000000e+02],\n",
       "       [2.55000000e+02, 2.55000000e+02, 2.55000000e+02, 2.55000000e+02,\n",
       "        2.55000000e+02, 2.55000000e+02, 2.55000000e+02, 2.55000000e+02,\n",
       "        2.55000000e+02, 2.55000000e+02, 2.55000000e+02, 2.55000000e+02,\n",
       "        2.55000000e+02, 2.55000000e+02, 2.55000000e+02, 2.55000000e+02,\n",
       "        2.55000000e+02, 2.55000000e+02, 2.55000000e+02, 2.55000000e+02,\n",
       "        2.55000000e+02, 2.55000000e+02, 2.55000000e+02, 2.55000000e+02,\n",
       "        2.55000000e+02, 2.55000000e+02, 2.55000000e+02, 2.55000000e+02],\n",
       "       [2.55000000e+02, 2.55000000e+02, 2.55000000e+02, 2.55000000e+02,\n",
       "        2.55000000e+02, 2.55000000e+02, 2.55000000e+02, 2.55000000e+02,\n",
       "        2.55000000e+02, 2.55000000e+02, 2.55000000e+02, 2.55000000e+02,\n",
       "        2.55000000e+02, 2.55000000e+02, 2.55000000e+02, 2.55000000e+02,\n",
       "        2.55000000e+02, 2.55000000e+02, 2.55000000e+02, 2.55000000e+02,\n",
       "        2.55000000e+02, 2.55000000e+02, 2.55000000e+02, 2.55000000e+02,\n",
       "        2.55000000e+02, 2.55000000e+02, 2.55000000e+02, 2.55000000e+02],\n",
       "       [2.55000000e+02, 2.55000000e+02, 2.55000000e+02, 2.55000000e+02,\n",
       "        2.55000000e+02, 2.55000000e+02, 2.55000000e+02, 2.55000000e+02,\n",
       "        2.55000000e+02, 2.55000000e+02, 2.55000000e+02, 2.55000000e+02,\n",
       "        2.55000000e+02, 2.55000000e+02, 2.55000000e+02, 2.55000000e+02,\n",
       "        2.55000000e+02, 2.55000000e+02, 2.55000000e+02, 2.55000000e+02,\n",
       "        2.55000000e+02, 2.55000000e+02, 2.55000000e+02, 2.55000000e+02,\n",
       "        2.55000000e+02, 2.55000000e+02, 2.55000000e+02, 2.55000000e+02],\n",
       "       [2.55000000e+02, 2.55000000e+02, 2.55000000e+02, 2.55000000e+02,\n",
       "        2.55000000e+02, 2.55000000e+02, 2.55000000e+02, 2.55000000e+02,\n",
       "        2.55000000e+02, 2.55000000e+02, 2.55000000e+02, 2.55000000e+02,\n",
       "        2.55000000e+02, 2.55000000e+02, 2.55000000e+02, 2.55000000e+02,\n",
       "        2.55000000e+02, 2.55000000e+02, 2.55000000e+02, 2.55000000e+02,\n",
       "        2.55000000e+02, 2.55000000e+02, 2.55000000e+02, 2.55000000e+02,\n",
       "        2.55000000e+02, 2.55000000e+02, 2.55000000e+02, 2.55000000e+02],\n",
       "       [0.00000000e+00, 0.00000000e+00, 0.00000000e+00, 0.00000000e+00,\n",
       "        0.00000000e+00, 0.00000000e+00, 0.00000000e+00, 0.00000000e+00,\n",
       "        0.00000000e+00, 0.00000000e+00, 0.00000000e+00, 0.00000000e+00,\n",
       "        0.00000000e+00, 0.00000000e+00, 1.00000000e+00, 5.73981330e-02,\n",
       "        8.92860413e-01, 2.50000000e-01, 0.00000000e+00, 0.00000000e+00,\n",
       "        0.00000000e+00, 0.00000000e+00, 0.00000000e+00, 0.00000000e+00,\n",
       "        0.00000000e+00, 0.00000000e+00, 0.00000000e+00, 0.00000000e+00],\n",
       "       [0.00000000e+00, 0.00000000e+00, 0.00000000e+00, 0.00000000e+00,\n",
       "        0.00000000e+00, 0.00000000e+00, 0.00000000e+00, 0.00000000e+00,\n",
       "        0.00000000e+00, 0.00000000e+00, 0.00000000e+00, 0.00000000e+00,\n",
       "        0.00000000e+00, 7.62754858e-01, 1.12244844e+01, 4.72578096e+00,\n",
       "        1.56883091e-01, 9.82143402e-01, 6.46683156e-01, 0.00000000e+00,\n",
       "        0.00000000e+00, 0.00000000e+00, 0.00000000e+00, 0.00000000e+00,\n",
       "        0.00000000e+00, 0.00000000e+00, 0.00000000e+00, 0.00000000e+00],\n",
       "       [0.00000000e+00, 0.00000000e+00, 0.00000000e+00, 0.00000000e+00,\n",
       "        0.00000000e+00, 0.00000000e+00, 0.00000000e+00, 0.00000000e+00,\n",
       "        0.00000000e+00, 0.00000000e+00, 0.00000000e+00, 0.00000000e+00,\n",
       "        0.00000000e+00, 0.00000000e+00, 3.59669914e+01, 1.27922020e+02,\n",
       "        1.13239326e+01, 1.70446281e+01, 1.39285278e+00, 0.00000000e+00,\n",
       "        0.00000000e+00, 0.00000000e+00, 0.00000000e+00, 0.00000000e+00,\n",
       "        0.00000000e+00, 0.00000000e+00, 0.00000000e+00, 0.00000000e+00],\n",
       "       [0.00000000e+00, 0.00000000e+00, 0.00000000e+00, 0.00000000e+00,\n",
       "        0.00000000e+00, 0.00000000e+00, 0.00000000e+00, 0.00000000e+00,\n",
       "        0.00000000e+00, 0.00000000e+00, 0.00000000e+00, 0.00000000e+00,\n",
       "        0.00000000e+00, 1.46685076e+00, 2.05030365e+02, 1.09862335e+02,\n",
       "        2.05759171e+02, 5.51517906e+01, 1.39285278e+00, 0.00000000e+00,\n",
       "        0.00000000e+00, 0.00000000e+00, 0.00000000e+00, 0.00000000e+00,\n",
       "        0.00000000e+00, 0.00000000e+00, 0.00000000e+00, 0.00000000e+00],\n",
       "       [0.00000000e+00, 0.00000000e+00, 0.00000000e+00, 0.00000000e+00,\n",
       "        0.00000000e+00, 0.00000000e+00, 0.00000000e+00, 0.00000000e+00,\n",
       "        0.00000000e+00, 0.00000000e+00, 0.00000000e+00, 0.00000000e+00,\n",
       "        7.84437776e-01, 3.81377429e-01, 2.13121048e+02, 9.17309570e+01,\n",
       "        5.40944748e+01, 5.35982361e+01, 1.39285278e+00, 0.00000000e+00,\n",
       "        0.00000000e+00, 0.00000000e+00, 0.00000000e+00, 0.00000000e+00,\n",
       "        0.00000000e+00, 0.00000000e+00, 0.00000000e+00, 0.00000000e+00],\n",
       "       [0.00000000e+00, 0.00000000e+00, 0.00000000e+00, 0.00000000e+00,\n",
       "        0.00000000e+00, 0.00000000e+00, 0.00000000e+00, 0.00000000e+00,\n",
       "        0.00000000e+00, 0.00000000e+00, 0.00000000e+00, 0.00000000e+00,\n",
       "        2.40687537e+00, 6.98851681e+00, 1.49322319e+01, 4.38953972e+01,\n",
       "        5.39476509e+01, 9.55267868e+01, 1.39285278e+00, 0.00000000e+00,\n",
       "        0.00000000e+00, 0.00000000e+00, 0.00000000e+00, 0.00000000e+00,\n",
       "        0.00000000e+00, 0.00000000e+00, 0.00000000e+00, 0.00000000e+00],\n",
       "       [0.00000000e+00, 0.00000000e+00, 0.00000000e+00, 0.00000000e+00,\n",
       "        0.00000000e+00, 0.00000000e+00, 0.00000000e+00, 0.00000000e+00,\n",
       "        0.00000000e+00, 0.00000000e+00, 7.50000000e-01, 3.57143402e-01,\n",
       "        1.11339283e+01, 7.04552155e+01, 1.82410622e+01, 2.12017838e+02,\n",
       "        2.36098251e+02, 7.08125000e+01, 1.18749237e+00, 1.60709381e-01,\n",
       "        0.00000000e+00, 0.00000000e+00, 0.00000000e+00, 0.00000000e+00,\n",
       "        0.00000000e+00, 0.00000000e+00, 0.00000000e+00, 0.00000000e+00],\n",
       "       [0.00000000e+00, 0.00000000e+00, 0.00000000e+00, 0.00000000e+00,\n",
       "        0.00000000e+00, 0.00000000e+00, 0.00000000e+00, 0.00000000e+00,\n",
       "        0.00000000e+00, 1.00000000e+00, 1.82144165e+00, 3.88777447e+00,\n",
       "        2.14991104e+02, 2.17347908e+01, 6.37669029e+01, 1.38613663e+02,\n",
       "        1.28695526e+02, 1.26357544e+02, 5.00890875e+00, 7.01501444e-02,\n",
       "        0.00000000e+00, 0.00000000e+00, 0.00000000e+00, 0.00000000e+00,\n",
       "        0.00000000e+00, 0.00000000e+00, 0.00000000e+00, 0.00000000e+00],\n",
       "       [0.00000000e+00, 0.00000000e+00, 0.00000000e+00, 0.00000000e+00,\n",
       "        0.00000000e+00, 0.00000000e+00, 0.00000000e+00, 0.00000000e+00,\n",
       "        0.00000000e+00, 6.07143402e-01, 1.07142944e+01, 2.09738510e+02,\n",
       "        2.04627563e+02, 4.93788795e+01, 3.66760445e+01, 2.33445145e+02,\n",
       "        2.28261505e+02, 2.25098190e+02, 2.79205942e+00, 0.00000000e+00,\n",
       "        0.00000000e+00, 0.00000000e+00, 0.00000000e+00, 0.00000000e+00,\n",
       "        0.00000000e+00, 0.00000000e+00, 0.00000000e+00, 0.00000000e+00],\n",
       "       [0.00000000e+00, 0.00000000e+00, 0.00000000e+00, 0.00000000e+00,\n",
       "        0.00000000e+00, 0.00000000e+00, 0.00000000e+00, 0.00000000e+00,\n",
       "        0.00000000e+00, 2.76658583e+00, 9.34642181e+01, 2.61479359e+01,\n",
       "        3.48571243e+01, 3.43737106e+01, 6.50994568e+01, 2.22627563e+02,\n",
       "        4.78863182e+01, 1.16776810e+02, 2.42858887e+00, 0.00000000e+00,\n",
       "        0.00000000e+00, 0.00000000e+00, 0.00000000e+00, 0.00000000e+00,\n",
       "        0.00000000e+00, 0.00000000e+00, 0.00000000e+00, 0.00000000e+00],\n",
       "       [0.00000000e+00, 0.00000000e+00, 0.00000000e+00, 0.00000000e+00,\n",
       "        0.00000000e+00, 0.00000000e+00, 0.00000000e+00, 0.00000000e+00,\n",
       "        0.00000000e+00, 3.89286041e+00, 1.19981926e+02, 1.78159470e+02,\n",
       "        1.81497421e+02, 1.86758942e+02, 1.77826340e+02, 5.57194366e+01,\n",
       "        9.91325989e+01, 2.59820786e+01, 2.46173263e+00, 2.42340323e-02,\n",
       "        0.00000000e+00, 0.00000000e+00, 0.00000000e+00, 0.00000000e+00,\n",
       "        0.00000000e+00, 0.00000000e+00, 0.00000000e+00, 0.00000000e+00],\n",
       "       [0.00000000e+00, 0.00000000e+00, 0.00000000e+00, 0.00000000e+00,\n",
       "        0.00000000e+00, 0.00000000e+00, 0.00000000e+00, 0.00000000e+00,\n",
       "        0.00000000e+00, 3.43622255e+00, 1.58928299e+00, 9.23725319e+00,\n",
       "        4.96683788e+00, 2.30226898e+00, 7.84961929e+01, 9.15178299e+01,\n",
       "        4.39605789e+01, 5.50892830e+00, 2.39285278e+00, 3.57131958e-02,\n",
       "        0.00000000e+00, 0.00000000e+00, 0.00000000e+00, 0.00000000e+00,\n",
       "        0.00000000e+00, 0.00000000e+00, 0.00000000e+00, 0.00000000e+00],\n",
       "       [0.00000000e+00, 0.00000000e+00, 0.00000000e+00, 0.00000000e+00,\n",
       "        0.00000000e+00, 0.00000000e+00, 0.00000000e+00, 0.00000000e+00,\n",
       "        1.00000000e+00, 1.72321355e+00, 4.39377136e+01, 3.60855408e+01,\n",
       "        4.52066002e+01, 3.80243340e+01, 9.47063255e+00, 3.77934494e+01,\n",
       "        1.04073997e+02, 1.26696339e+01, 1.00000000e+00, 3.57131958e-02,\n",
       "        0.00000000e+00, 0.00000000e+00, 0.00000000e+00, 0.00000000e+00,\n",
       "        0.00000000e+00, 0.00000000e+00, 0.00000000e+00, 0.00000000e+00],\n",
       "       [0.00000000e+00, 0.00000000e+00, 0.00000000e+00, 0.00000000e+00,\n",
       "        0.00000000e+00, 0.00000000e+00, 0.00000000e+00, 0.00000000e+00,\n",
       "        1.00000000e+00, 1.89285660e+00, 1.37500000e+00, 2.29464436e+00,\n",
       "        2.60713959e+00, 3.62500763e+00, 8.41962051e+00, 5.92231979e+01,\n",
       "        5.09822655e+00, 5.68750000e+00, 1.00000000e+00, 3.57131958e-02,\n",
       "        0.00000000e+00, 0.00000000e+00, 0.00000000e+00, 0.00000000e+00,\n",
       "        0.00000000e+00, 0.00000000e+00, 0.00000000e+00, 0.00000000e+00],\n",
       "       [0.00000000e+00, 0.00000000e+00, 0.00000000e+00, 0.00000000e+00,\n",
       "        0.00000000e+00, 0.00000000e+00, 0.00000000e+00, 0.00000000e+00,\n",
       "        1.00000000e+00, 1.00000000e+00, 1.00000000e+00, 1.00000000e+00,\n",
       "        1.94259977e+00, 1.87307358e+01, 2.49109383e+01, 1.41007433e+01,\n",
       "        7.33673573e+00, 4.10720825e-01, 1.00000000e+00, 3.57131958e-02,\n",
       "        0.00000000e+00, 0.00000000e+00, 0.00000000e+00, 0.00000000e+00,\n",
       "        0.00000000e+00, 0.00000000e+00, 0.00000000e+00, 0.00000000e+00],\n",
       "       [0.00000000e+00, 0.00000000e+00, 0.00000000e+00, 0.00000000e+00,\n",
       "        0.00000000e+00, 0.00000000e+00, 0.00000000e+00, 0.00000000e+00,\n",
       "        0.00000000e+00, 1.00000000e+00, 1.00000000e+00, 1.00000000e+00,\n",
       "        1.00000000e+00, 2.64285278e+00, 1.30102384e+00, 2.34540939e+01,\n",
       "        9.50255692e-01, 1.00000000e+00, 1.00000000e+00, 3.57131958e-02,\n",
       "        0.00000000e+00, 0.00000000e+00, 0.00000000e+00, 0.00000000e+00,\n",
       "        0.00000000e+00, 0.00000000e+00, 0.00000000e+00, 0.00000000e+00],\n",
       "       [0.00000000e+00, 0.00000000e+00, 0.00000000e+00, 0.00000000e+00,\n",
       "        0.00000000e+00, 0.00000000e+00, 0.00000000e+00, 0.00000000e+00,\n",
       "        0.00000000e+00, 1.78573608e-01, 1.78573608e-01, 1.78573608e-01,\n",
       "        1.00000000e+00, 8.53314936e-01, 8.53314936e-01, 1.41454685e+00,\n",
       "        1.09566152e+00, 1.00000000e+00, 1.00000000e+00, 3.57131958e-02,\n",
       "        0.00000000e+00, 0.00000000e+00, 0.00000000e+00, 0.00000000e+00,\n",
       "        0.00000000e+00, 0.00000000e+00, 0.00000000e+00, 0.00000000e+00]],\n",
       "      dtype=float32)"
      ]
     },
     "execution_count": 74,
     "metadata": {},
     "output_type": "execute_result"
    }
   ],
   "source": [
    "imgGray[:,:,0]"
   ]
  },
  {
   "cell_type": "code",
   "execution_count": 75,
   "metadata": {},
   "outputs": [],
   "source": [
    "height, width,_ = imgGray.shape\n",
    "\n",
    "for i in range(height):\n",
    "    for j in range(width):\n",
    "        # img[i,j] is the grayscale pixel at position (i, j)\n",
    "        # check if it's [255] and replace with [0] if so\n",
    "        if imgGray[i,j] > 250:\n",
    "            imgGray[i, j] = 0 "
   ]
  },
  {
   "cell_type": "code",
   "execution_count": 76,
   "metadata": {},
   "outputs": [
    {
     "data": {
      "text/plain": [
       "<matplotlib.image.AxesImage at 0x20ea02f1ca0>"
      ]
     },
     "execution_count": 76,
     "metadata": {},
     "output_type": "execute_result"
    },
    {
     "data": {
      "image/png": "[encoded data removed]",
      "text/plain": [
       "<Figure size 720x432 with 1 Axes>"
      ]
     },
     "metadata": {},
     "output_type": "display_data"
    }
   ],
   "source": [
    "plt.imshow(imgGray)\n"
   ]
  },
  {
   "cell_type": "code",
   "execution_count": 77,
   "metadata": {},
   "outputs": [
    {
     "data": {
      "text/plain": [
       "(0.0, 236.09825)"
      ]
     },
     "execution_count": 77,
     "metadata": {},
     "output_type": "execute_result"
    }
   ],
   "source": [
    "np.array(imgGray).min(), np.array(imgGray).max()"
   ]
  },
  {
   "cell_type": "code",
   "execution_count": 78,
   "metadata": {},
   "outputs": [
    {
     "data": {
      "text/plain": [
       "(28, 28, 1)"
      ]
     },
     "execution_count": 78,
     "metadata": {},
     "output_type": "execute_result"
    }
   ],
   "source": [
    "imgGray = imgGray/255 \n",
    "imgGray.shape"
   ]
  },
  {
   "cell_type": "code",
   "execution_count": 79,
   "metadata": {},
   "outputs": [
    {
     "data": {
      "text/plain": [
       "<matplotlib.image.AxesImage at 0x20ea03527f0>"
      ]
     },
     "execution_count": 79,
     "metadata": {},
     "output_type": "execute_result"
    },
    {
     "data": {
      "image/png": "[encoded data removed]",
      "text/plain": [
       "<Figure size 720x432 with 1 Axes>"
      ]
     },
     "metadata": {},
     "output_type": "display_data"
    }
   ],
   "source": [
    "plt.imshow(imgGray)"
   ]
  },
  {
   "cell_type": "code",
   "execution_count": 80,
   "metadata": {},
   "outputs": [
    {
     "data": {
      "text/plain": [
       "(1, 28, 28, 1)"
      ]
     },
     "execution_count": 80,
     "metadata": {},
     "output_type": "execute_result"
    }
   ],
   "source": [
    "imgGray= np.expand_dims(imgGray, axis=0)\n",
    "imgGray.shape"
   ]
  },
  {
   "cell_type": "code",
   "execution_count": 81,
   "metadata": {},
   "outputs": [
    {
     "name": "stdout",
     "output_type": "stream",
     "text": [
      "1/1 [==============================] - 0s 60ms/step\n"
     ]
    },
    {
     "data": {
      "text/plain": [
       "array([0.   , 0.   , 0.   , 0.   , 0.   , 0.983, 0.   , 0.   , 0.017,\n",
       "       0.   ], dtype=float32)"
      ]
     },
     "execution_count": 81,
     "metadata": {},
     "output_type": "execute_result"
    }
   ],
   "source": [
    "model.predict(imgGray).round(3).flatten()"
   ]
  },
  {
   "cell_type": "code",
   "execution_count": 82,
   "metadata": {},
   "outputs": [
    {
     "name": "stdout",
     "output_type": "stream",
     "text": [
      "1/1 [==============================] - 0s 39ms/step\n"
     ]
    },
    {
     "data": {
      "text/plain": [
       "0   0.000\n",
       "1   0.000\n",
       "2   0.000\n",
       "3   0.000\n",
       "4   0.000\n",
       "5   0.983\n",
       "6   0.000\n",
       "7   0.000\n",
       "8   0.017\n",
       "9   0.000\n",
       "dtype: float32"
      ]
     },
     "execution_count": 82,
     "metadata": {},
     "output_type": "execute_result"
    }
   ],
   "source": [
    "pd.Series(model.predict(imgGray).round(3).flatten())"
   ]
  },
  {
   "cell_type": "code",
   "execution_count": 83,
   "metadata": {},
   "outputs": [
    {
     "data": {
      "text/plain": [
       "0    T-shirt/top\n",
       "1        Trouser\n",
       "2       Pullover\n",
       "3          Dress\n",
       "4           Coat\n",
       "5         Sandal\n",
       "6          Shirt\n",
       "7        Sneaker\n",
       "8            Bag\n",
       "9     Ankle boot\n",
       "dtype: object"
      ]
     },
     "execution_count": 83,
     "metadata": {},
     "output_type": "execute_result"
    }
   ],
   "source": [
    "pd.Series(classes)"
   ]
  },
  {
   "cell_type": "markdown",
   "metadata": {},
   "source": [
    "# End of Assignment"
   ]
  },
  {
   "cell_type": "markdown",
   "metadata": {},
   "source": [
    "___\n",
    "\n",
    "<p style=\"text-align: center;\"><img src=\"https://docs.google.com/uc?id=1lY0Uj5R04yMY3-ZppPWxqCr5pvBLYPnV\" class=\"img-fluid\" alt=\"CLRSWY\"></p>\n",
    "\n",
    "___"
   ]
  }
 ],
 "metadata": {
  "kernelspec": {
   "display_name": "Python 3.9.13 ('base')",
   "language": "python",
   "name": "python3"
  },
  "language_info": {
   "codemirror_mode": {
    "name": "ipython",
    "version": 3
   },
   "file_extension": ".py",
   "mimetype": "text/x-python",
   "name": "python",
   "nbconvert_exporter": "python",
   "pygments_lexer": "ipython3",
   "version": "3.9.12"
  },
  "toc": {
   "base_numbering": 1,
   "nav_menu": {},
   "number_sections": false,
   "sideBar": true,
   "skip_h1_title": false,
   "title_cell": "Table of Contents",
   "title_sidebar": "Contents",
   "toc_cell": false,
   "toc_position": {},
   "toc_section_display": true,
   "toc_window_display": true
  },
  "vscode": {
   "interpreter": {
    "hash": "5ae58900cfbb8c43ab3495913814b7cf26024f51651a94ce8bf64d6111688e8d"
   }
  }
 },
 "nbformat": 4,
 "nbformat_minor": 2
}
